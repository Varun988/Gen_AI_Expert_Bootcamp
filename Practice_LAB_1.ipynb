{
  "nbformat": 4,
  "nbformat_minor": 0,
  "metadata": {
    "colab": {
      "provenance": []
    },
    "kernelspec": {
      "name": "python3",
      "display_name": "Python 3"
    },
    "language_info": {
      "name": "python"
    }
  },
  "cells": [
    {
      "cell_type": "code",
      "execution_count": 1,
      "metadata": {
        "colab": {
          "base_uri": "https://localhost:8080/"
        },
        "id": "mHkDY8kQRQvG",
        "outputId": "19d95205-3ea6-473f-a3c5-99490b45a970"
      },
      "outputs": [
        {
          "output_type": "stream",
          "name": "stdout",
          "text": [
            "\u001b[2K     \u001b[90m━━━━━━━━━━━━━━━━━━━━━━━━━━━━━━━━━━━━━━━━\u001b[0m \u001b[32m57.7/57.7 kB\u001b[0m \u001b[31m3.0 MB/s\u001b[0m eta \u001b[36m0:00:00\u001b[0m\n",
            "\u001b[2K   \u001b[90m━━━━━━━━━━━━━━━━━━━━━━━━━━━━━━━━━━━━━━━━\u001b[0m \u001b[32m389.6/389.6 kB\u001b[0m \u001b[31m9.9 MB/s\u001b[0m eta \u001b[36m0:00:00\u001b[0m\n",
            "\u001b[2K   \u001b[90m━━━━━━━━━━━━━━━━━━━━━━━━━━━━━━━━━━━━━━━━\u001b[0m \u001b[32m76.4/76.4 kB\u001b[0m \u001b[31m3.9 MB/s\u001b[0m eta \u001b[36m0:00:00\u001b[0m\n",
            "\u001b[2K   \u001b[90m━━━━━━━━━━━━━━━━━━━━━━━━━━━━━━━━━━━━━━━━\u001b[0m \u001b[32m78.6/78.6 kB\u001b[0m \u001b[31m3.0 MB/s\u001b[0m eta \u001b[36m0:00:00\u001b[0m\n",
            "\u001b[2K   \u001b[90m━━━━━━━━━━━━━━━━━━━━━━━━━━━━━━━━━━━━━━━━\u001b[0m \u001b[32m96.0/96.0 kB\u001b[0m \u001b[31m5.1 MB/s\u001b[0m eta \u001b[36m0:00:00\u001b[0m\n",
            "\u001b[2K   \u001b[90m━━━━━━━━━━━━━━━━━━━━━━━━━━━━━━━━━━━━━━━━\u001b[0m \u001b[32m70.4/70.4 kB\u001b[0m \u001b[31m3.4 MB/s\u001b[0m eta \u001b[36m0:00:00\u001b[0m\n",
            "\u001b[2K   \u001b[90m━━━━━━━━━━━━━━━━━━━━━━━━━━━━━━━━━━━━━━━━\u001b[0m \u001b[32m345.6/345.6 kB\u001b[0m \u001b[31m6.0 MB/s\u001b[0m eta \u001b[36m0:00:00\u001b[0m\n",
            "\u001b[2K   \u001b[90m━━━━━━━━━━━━━━━━━━━━━━━━━━━━━━━━━━━━━━━━\u001b[0m \u001b[32m431.7/431.7 kB\u001b[0m \u001b[31m15.2 MB/s\u001b[0m eta \u001b[36m0:00:00\u001b[0m\n",
            "\u001b[2K   \u001b[90m━━━━━━━━━━━━━━━━━━━━━━━━━━━━━━━━━━━━━━━━\u001b[0m \u001b[32m2.0/2.0 MB\u001b[0m \u001b[31m24.3 MB/s\u001b[0m eta \u001b[36m0:00:00\u001b[0m\n",
            "\u001b[2K   \u001b[90m━━━━━━━━━━━━━━━━━━━━━━━━━━━━━━━━━━━━━━━━\u001b[0m \u001b[32m78.5/78.5 kB\u001b[0m \u001b[31m2.1 MB/s\u001b[0m eta \u001b[36m0:00:00\u001b[0m\n",
            "\u001b[2K   \u001b[90m━━━━━━━━━━━━━━━━━━━━━━━━━━━━━━━━━━━━━━━━\u001b[0m \u001b[32m164.9/164.9 kB\u001b[0m \u001b[31m4.2 MB/s\u001b[0m eta \u001b[36m0:00:00\u001b[0m\n",
            "\u001b[2K   \u001b[90m━━━━━━━━━━━━━━━━━━━━━━━━━━━━━━━━━━━━━━━━\u001b[0m \u001b[32m58.3/58.3 kB\u001b[0m \u001b[31m2.7 MB/s\u001b[0m eta \u001b[36m0:00:00\u001b[0m\n",
            "\u001b[?25h\u001b[31mERROR: pip's dependency resolver does not currently take into account all the packages that are installed. This behaviour is the source of the following dependency conflicts.\n",
            "jupyter-server 1.24.0 requires anyio<4,>=3.1.0, but you have anyio 4.8.0 which is incompatible.\u001b[0m\u001b[31m\n",
            "\u001b[0m"
          ]
        }
      ],
      "source": [
        "pip install openai==1.55.3 httpx==0.27.2 --force-reinstall --quiet\n"
      ]
    },
    {
      "cell_type": "code",
      "source": [
        "from openai import AzureOpenAI\n",
        "\n",
        "from google.colab import userdata"
      ],
      "metadata": {
        "id": "-JgFuIunR5yR"
      },
      "execution_count": 2,
      "outputs": []
    },
    {
      "cell_type": "code",
      "source": [
        "azure_api_key = userdata.get('azure_api_key')\n"
      ],
      "metadata": {
        "id": "kkxmnUpvSIhE"
      },
      "execution_count": 3,
      "outputs": []
    },
    {
      "cell_type": "code",
      "source": [
        "azure_api_key"
      ],
      "metadata": {
        "colab": {
          "base_uri": "https://localhost:8080/",
          "height": 35
        },
        "id": "8zacik8eTJEJ",
        "outputId": "b344a881-b681-4f96-e819-451d501d15c2"
      },
      "execution_count": 4,
      "outputs": [
        {
          "output_type": "execute_result",
          "data": {
            "text/plain": [
              "''"
            ],
            "application/vnd.google.colaboratory.intrinsic+json": {
              "type": "string"
            }
          },
          "metadata": {},
          "execution_count": 4
        }
      ]
    },
    {
      "cell_type": "code",
      "source": [
        "azure_endpoint= userdata.get('azure_endpoint')\n"
      ],
      "metadata": {
        "id": "708V3pq0TLl_"
      },
      "execution_count": 5,
      "outputs": []
    },
    {
      "cell_type": "code",
      "source": [
        "client = AzureOpenAI(\n",
        "    azure_endpoint = azure_endpoint,\n",
        "    api_key=azure_api_key,\n",
        "    api_version=\"2024-05-01-preview\" # or a compatible version\n",
        ")"
      ],
      "metadata": {
        "id": "U_-zkhQpTUUp"
      },
      "execution_count": 11,
      "outputs": []
    },
    {
      "cell_type": "code",
      "source": [
        "model_name = 'gpt-35-turbo-16k'"
      ],
      "metadata": {
        "id": "uSIS4l7hTqak"
      },
      "execution_count": 7,
      "outputs": []
    },
    {
      "cell_type": "code",
      "source": [
        "system_message = \"\"\"\n",
        "You are an assistant to a hospital administration team working on extracting important information from medical notes made by doctors.\n",
        "Medical notes will be presented to you in the user input.\n",
        "Extract relevant information as mentioned below in a json format with the following schema.\n",
        "- age: integer, age of the patient\n",
        "- gender: string, can be one of male, female or other\n",
        "- diagnosis: string, can be one of migraine, diabetes, arthritis and acne\n",
        "- weight: integer, weight of the patient\n",
        "- smoking: string, can be one of yes or no\n",
        "\"\"\""
      ],
      "metadata": {
        "id": "XvmWHLnpT14O"
      },
      "execution_count": 8,
      "outputs": []
    },
    {
      "cell_type": "code",
      "source": [
        "user_input = \"\"\"\n",
        "Medical Notes:\n",
        "---\n",
        "A 35-year-old male patient, Mr. Nags, presented with symptoms\n",
        "of increased thirst, frequent urination, fatigue, and unexplained\n",
        "weight loss. Upon evaluation, he was diagnosed with diabetes,\n",
        "confirmed by elevated blood sugar levels. Mr. Nags' weight\n",
        "is 80 kgs. He has been prescribed Metformin to be taken twice daily\n",
        "with meals. It was noted during the consultation that the patient is\n",
        "a current smoker.\n",
        "\"\"\""
      ],
      "metadata": {
        "id": "orFWTMmST19U"
      },
      "execution_count": 9,
      "outputs": []
    },
    {
      "cell_type": "code",
      "source": [
        "response = client.chat.completions.create(\n",
        "    model=model_name,\n",
        "    messages=[\n",
        "        {\"role\": \"system\", \"content\": system_message},\n",
        "        {\"role\": \"user\", \"content\": user_input}\n",
        "    ]\n",
        ")"
      ],
      "metadata": {
        "id": "c_1EjcsZT1_1"
      },
      "execution_count": 12,
      "outputs": []
    },
    {
      "cell_type": "code",
      "source": [
        "print(response.choices[0].message.content)\n"
      ],
      "metadata": {
        "colab": {
          "base_uri": "https://localhost:8080/"
        },
        "id": "hgKKroP3T2CE",
        "outputId": "2c3871bd-31d5-4b66-9917-c582f09edf9b"
      },
      "execution_count": 13,
      "outputs": [
        {
          "output_type": "stream",
          "name": "stdout",
          "text": [
            "{\n",
            "  \"age\": 35,\n",
            "  \"gender\": \"male\",\n",
            "  \"diagnosis\": \"diabetes\",\n",
            "  \"weight\": 80,\n",
            "  \"smoking\": \"yes\"\n",
            "}\n"
          ]
        }
      ]
    },
    {
      "cell_type": "markdown",
      "source": [
        "Business Case Study - Khanmigo!\n",
        "Khanmigo is an AI-powered tool from Khan Academy that they call \"Tutor for learners. Assistant for teachers.” It provides personalized learning experiences for students. It offers guidance to students on math, science, and humanities problems, a debate tool, and a writing tutor. It can support teachers in several tasks, like a teaching assistant.\n",
        "\n",
        "Today, we are going to replicate some of the features of Khanmigo using prompting techniques we have learnt so far. We are going to focus on select features of Khanmigo that are developed to help teachers.\n",
        "\n",
        "We will step into the shoes of developers who have built these features for Khanmigo.\n",
        "\n",
        "Journey of a Teacher\n",
        "To Develop features that a teacher would require, we need to empathise with the teacher. So, Let's jump into the shoes of a teacher. Let's say Our first assignment is to teach about Newton's third law of motion to grade 8 students. Below is the lesson material provided by our institution.\n",
        "\n",
        "Lesson Material:\n",
        "\n",
        "Title: Understanding Newton's Third Law: Action and Reaction\n",
        "\n",
        "Objective: By the end of this lesson, students will be able to:\n",
        "\n",
        "Define Newton's Third Law of Motion.\n",
        "Identify action and reaction force pairs in various scenarios.\n",
        "Explain real-life applications of Newton's Third Law.\n",
        "Body:\n",
        "\n",
        "1. What is Newton's Third Law?\n",
        "\n",
        "Explain that Newton's Third Law states: \"For every action, there is an equal and opposite reaction.\"\n",
        "Break down the meaning of this law: when one object exerts a force on a second object, the second object exerts a force of equal magnitude in the opposite direction on the first object.\n",
        "2. Action and Reaction Pairs:\n",
        "\n",
        "Provide examples and ask students to identify the action and reaction force pairs in each scenario. Examples could include:\n",
        "A person pushing against a wall.\n",
        "A ball bouncing off the ground.\n",
        "A swimmer pushing against the water.\n",
        "Encourage students to think about the forces involved and how they act on different objects.\n",
        "3. Real-Life Applications:\n",
        "\n",
        "Discuss real-life examples where Newton's Third Law is at play, such as:\n",
        "Rocket propulsion: The action force is the expulsion of gas from the rocket engines, and the reaction force is the resulting upward movement of the rocket.\n",
        "Walking: Each step involves pushing against the ground, which pushes back with an equal force, propelling the person forward.\n",
        "Driving a car: The tires push against the road, and the road pushes back, propelling the car forward.\n",
        "Encourage students to brainstorm other examples they encounter in daily life.\n",
        "Conclusion: Review the key points of the lesson:\n",
        "\n",
        "Newton's Third Law states that for every action, there is an equal and opposite reaction.\n",
        "Action and reaction force pairs exist in all interactions between objects.\n",
        "Understanding Newton's Third Law helps us explain and predict motion in the world around us.\n",
        "Assessment: Conduct a short quiz or discussion to assess students' understanding of Newton's Third Law and their ability to identify action and reaction force pairs in different scenarios. Encourage students to ask questions if they need further clarification.\n",
        "\n",
        "Extension: Challenge students to research and present on advanced applications of Newton's Third Law, such as in sports, engineering, or space exploration. This can deepen their understanding and appreciation of the concept.\n",
        "\n",
        "This is good foundational material but this alone doesn't provide great learning experience. One of the first things a good learning experience requires is a lesson hook.\n",
        "\n",
        "A lesson hook is a tool used by teacher to grab students' attention and maintaining their engagement, providing a gateway into the lesson's content.\n",
        "\n",
        "A lesson hook can take various forms, such as a question, activity, game, story, or compelling analogy. Each topic can be approached and explained from diverse angles. An effective lesson hook not only seizes attention but also makes the subject matter relevant to students' lives, sparking curiosity and fostering a desire to delve deeper into the topic.\n",
        "\n",
        "However, brainstorming lesson hooks for each topic can be overwhelming, particularly when dealing with multiple classes or classes with varying cognitive levels. Leveraging Language Models (LLMs), teachers can swiftly generate ideas tailored to the topic and cognitive level. Additionally, incorporating students' interests and hobbies can further enhance the relevance and relatability of the lesson hooks.\n",
        "\n",
        "Setup\n",
        "Uncomment the code in the cell below and run it. After running it, restart the session and then run the remaining cells in the notebook.\n",
        "\n",
        "#!pip install openai==1.55.3 httpx==0.27.2 --force-reinstall --quiet\n",
        "Installation\n",
        "Since Colab instances are not persistent, for each session, we need to install the packages required for the session each time a new session is started."
      ],
      "metadata": {
        "id": "n3zP2H-_VJtc"
      }
    },
    {
      "cell_type": "code",
      "source": [
        "!pip install tiktoken==0.6 session-info --quiet\n"
      ],
      "metadata": {
        "colab": {
          "base_uri": "https://localhost:8080/"
        },
        "id": "EidKzOWiVOhH",
        "outputId": "433abf79-5ed0-4476-8498-9aa220494cf6"
      },
      "execution_count": 14,
      "outputs": [
        {
          "output_type": "stream",
          "name": "stdout",
          "text": [
            "  Preparing metadata (setup.py) ... \u001b[?25l\u001b[?25hdone\n",
            "\u001b[2K   \u001b[90m━━━━━━━━━━━━━━━━━━━━━━━━━━━━━━━━━━━━━━━━\u001b[0m \u001b[32m1.8/1.8 MB\u001b[0m \u001b[31m21.9 MB/s\u001b[0m eta \u001b[36m0:00:00\u001b[0m\n",
            "\u001b[2K   \u001b[90m━━━━━━━━━━━━━━━━━━━━━━━━━━━━━━━━━━━━━━━━\u001b[0m \u001b[32m83.6/83.6 kB\u001b[0m \u001b[31m5.1 MB/s\u001b[0m eta \u001b[36m0:00:00\u001b[0m\n",
            "\u001b[?25h  Building wheel for session-info (setup.py) ... \u001b[?25l\u001b[?25hdone\n"
          ]
        }
      ]
    },
    {
      "cell_type": "code",
      "source": [
        "# Import all Python packages required to access the Azure Open AI API\n",
        "import json\n",
        "import tiktoken\n",
        "import session_info"
      ],
      "metadata": {
        "id": "KFIS5lnmVO38"
      },
      "execution_count": 15,
      "outputs": []
    },
    {
      "cell_type": "markdown",
      "source": [
        "1 Creating a Lesson Hook\n",
        "What Does a Lesson Hook Accomplish?\n",
        "\n",
        "Grabbing Attention: A hook immediately captures students' attention and focuses their minds on the lesson at hand.\n",
        "\n",
        "Generating Curiosity: It piques students' curiosity and encourages them to want to learn more about the topic.\n",
        "\n",
        "Creating Relevance: By relating the lesson to students' lives or interests, a hook makes the material more relevant and meaningful to them.\n",
        "\n",
        "Building Enthusiasm: A well-executed hook creates excitement and enthusiasm for learning, motivating students to actively participate in the lesson.\n",
        "\n",
        "Establishing Connection: It establishes a connection between the students and the lesson content, laying the foundation for deeper understanding and engagement.\n",
        "\n",
        "In summary, a lesson hook is a powerful tool for engaging students, generating interest, and setting the stage for effective learning. It captures attention, fosters curiosity, and makes the lesson content relevant and meaningful to students, ultimately leading to greater retention and understanding.\n",
        "\n",
        "We will get the LLM to output multiple potent lesson hooks out of which teachers will pick a lesson hook that works best for them based on their audience and resources available to them.\n",
        "\n",
        "We need to create a prompt that can get a lesson hook from the LLM given a topic. Of the three prompting techniques we learnt, what do you think is the best prompting technique for this purpose?\n",
        "\n",
        "Let's try one by one and see what works best. You are encouraged to suggest modifications to the prompts."
      ],
      "metadata": {
        "id": "VkPCEoS4VdvW"
      }
    },
    {
      "cell_type": "code",
      "source": [
        "zero_shot_prompt = \"\"\"Create a list of 3-5 engaging lesson hooks for a  lesson keeping in mind the grade of the students.\n",
        "The hooks should be designed to capture students' attention and interest at the start of the lesson.\n",
        "Consider the developmental needs and interests of students at this age when crafting the hooks.\"\"\""
      ],
      "metadata": {
        "id": "iZd3xIunVO67"
      },
      "execution_count": 16,
      "outputs": []
    },
    {
      "cell_type": "code",
      "source": [
        "user_prompt = \"Create a lesson hook for a lesson on newton's third law of motion for grade 8 students\"\n"
      ],
      "metadata": {
        "id": "2Lz0IedGVkge"
      },
      "execution_count": 18,
      "outputs": []
    },
    {
      "cell_type": "code",
      "source": [
        "# response = client.chat.completions.create(\n",
        "#     model=model_name,\n",
        "#     messages=[\n",
        "#         {\"role\": \"system\", \"content\": zero_shot_prompt},\n",
        "#         {\"role\": \"user\", \"content\": user_prompt}\n",
        "#     ]\n",
        "# )"
      ],
      "metadata": {
        "id": "-GlILf4KVmQa"
      },
      "execution_count": 19,
      "outputs": []
    },
    {
      "cell_type": "code",
      "source": [
        " messages=[\n",
        "        {\"role\": \"system\", \"content\": zero_shot_prompt},\n",
        "        {\"role\": \"user\", \"content\": user_prompt}\n",
        "    ]"
      ],
      "metadata": {
        "id": "mRM-LX_IWHhN"
      },
      "execution_count": 20,
      "outputs": []
    },
    {
      "cell_type": "code",
      "source": [
        "response = client.chat.completions.create(\n",
        "    model=model_name,\n",
        "    messages=messages,\n",
        "    max_tokens=4096\n",
        ")"
      ],
      "metadata": {
        "id": "a_d1RWh_WXzt"
      },
      "execution_count": 21,
      "outputs": []
    },
    {
      "cell_type": "code",
      "source": [
        "print(response.choices[0].message.content)\n"
      ],
      "metadata": {
        "colab": {
          "base_uri": "https://localhost:8080/"
        },
        "id": "Qd8ejt7bWl2B",
        "outputId": "d1b4fff5-b365-4127-d15a-2bbb570cd66d"
      },
      "execution_count": 22,
      "outputs": [
        {
          "output_type": "stream",
          "name": "stdout",
          "text": [
            "1. \"Do you ever feel like you're being pushed around? Well, get ready to learn about the scientific reason behind that! Today, we're going to explore Newton's Third Law of Motion and understand why every action has an equal and opposite reaction.\"\n",
            "\n",
            "2. \"Imagine you're standing on a skateboard and suddenly push a wall with all your might. What do you think will happen? Today, we're going to discover the surprising results of this experiment and learn about Newton's Third Law of Motion.\"\n",
            "\n",
            "3. \"Raise your hand if you've ever played with a yo-yo. Did you know that the fascinating tricks you perform with a yo-yo are actually due to a scientific principle? Today, we're going to unravel the mystery behind yo-yo tricks and discover Newton's Third Law of Motion.\"\n",
            "\n",
            "4. \"Have you ever seen a rocket launch into space? Today, we're going to explore the amazing world of rockets and understand how Newton's Third Law of Motion plays a crucial role in their flight. Get ready to be amazed!\"\n",
            "\n",
            "5. \"Imagine you're playing a game of tug-of-war. You pull the rope with all your strength, but what happens when your opponent pulls back just as hard? Today, we're going to dive into the concept of force and discover how Newton's Third Law of Motion explains the dynamics of a tug-of-war game.\"\n"
          ]
        }
      ]
    },
    {
      "cell_type": "code",
      "source": [
        "print(response.choices[1].message.content)\n"
      ],
      "metadata": {
        "colab": {
          "base_uri": "https://localhost:8080/",
          "height": 141
        },
        "id": "lXCUkMFsWs2t",
        "outputId": "16616eb0-bdc8-474b-cfe4-275b97ff0317"
      },
      "execution_count": 23,
      "outputs": [
        {
          "output_type": "error",
          "ename": "IndexError",
          "evalue": "list index out of range",
          "traceback": [
            "\u001b[0;31m---------------------------------------------------------------------------\u001b[0m",
            "\u001b[0;31mIndexError\u001b[0m                                Traceback (most recent call last)",
            "\u001b[0;32m<ipython-input-23-c9d89d4a4cb0>\u001b[0m in \u001b[0;36m<cell line: 0>\u001b[0;34m()\u001b[0m\n\u001b[0;32m----> 1\u001b[0;31m \u001b[0mprint\u001b[0m\u001b[0;34m(\u001b[0m\u001b[0mresponse\u001b[0m\u001b[0;34m.\u001b[0m\u001b[0mchoices\u001b[0m\u001b[0;34m[\u001b[0m\u001b[0;36m1\u001b[0m\u001b[0;34m]\u001b[0m\u001b[0;34m.\u001b[0m\u001b[0mmessage\u001b[0m\u001b[0;34m.\u001b[0m\u001b[0mcontent\u001b[0m\u001b[0;34m)\u001b[0m\u001b[0;34m\u001b[0m\u001b[0;34m\u001b[0m\u001b[0m\n\u001b[0m",
            "\u001b[0;31mIndexError\u001b[0m: list index out of range"
          ]
        }
      ]
    },
    {
      "cell_type": "code",
      "source": [
        "response = client.chat.completions.create(\n",
        "    model=model_name,\n",
        "    messages=messages,\n",
        "    max_tokens=4096,\n",
        "    n=2, # <- This will ask the model to present two choices for completion\n",
        "    temperature=0.1\n",
        ")"
      ],
      "metadata": {
        "id": "M0DcoiJVWvD4"
      },
      "execution_count": 25,
      "outputs": []
    },
    {
      "cell_type": "code",
      "source": [],
      "metadata": {
        "id": "E1efmVXPXWLv"
      },
      "execution_count": null,
      "outputs": []
    },
    {
      "cell_type": "code",
      "source": [
        "print(response.choices[0].message.content)\n"
      ],
      "metadata": {
        "colab": {
          "base_uri": "https://localhost:8080/"
        },
        "id": "1MX7fomWXWN3",
        "outputId": "394573cb-c472-4dc4-8c20-533ae4406e32"
      },
      "execution_count": 26,
      "outputs": [
        {
          "output_type": "stream",
          "name": "stdout",
          "text": [
            "1. \"The Ultimate Tug-of-War Challenge\": Set up a mini tug-of-war competition in the classroom, dividing the students into two teams. Before starting, ask the students to predict which team will win based on their strength. After a few rounds, explain that this activity demonstrates Newton's Third Law of Motion, where the force exerted by one team is equal and opposite to the force exerted by the other team.\n",
            "\n",
            "2. \"Superhero Showdown\": Begin the lesson by showing a short video clip of a superhero movie where two characters are engaged in an intense battle. Ask the students to identify the actions and movements that occur during the fight scene. Then, explain that these actions are a perfect example of Newton's Third Law of Motion, where every action has an equal and opposite reaction.\n",
            "\n",
            "3. \"Egg Drop Challenge\": Challenge the students to design a contraption that will protect an egg from breaking when dropped from a height. Before starting, ask the students to brainstorm ideas and predict which designs will be successful. After the challenge, discuss how Newton's Third Law of Motion played a role in the success or failure of their designs.\n",
            "\n",
            "4. \"Balloon Rockets Race\": Divide the students into pairs and provide each pair with a balloon, a string, and a straw. Instruct the students to attach the string to two fixed points in the classroom and thread the straw onto the string. Then, blow up the balloon and release it, allowing the air to escape through the straw. The balloon will propel forward, demonstrating Newton's Third Law of Motion.\n",
            "\n",
            "5. \"Human Cannonball Experiment\": Begin the lesson by showing a video clip or pictures of a human cannonball act in a circus. Ask the students to discuss how the person is launched into the air and what forces are involved. Then, explain that this act is a real-life example of Newton's Third Law of Motion, where the force exerted by the cannon is equal and opposite to the force exerted by the person.\n"
          ]
        }
      ]
    },
    {
      "cell_type": "code",
      "source": [
        "print(response.choices[1].message.content)\n"
      ],
      "metadata": {
        "colab": {
          "base_uri": "https://localhost:8080/"
        },
        "id": "u2cTfnZCXaMt",
        "outputId": "2b1e510a-d4ce-40cc-90fa-9674da687bff"
      },
      "execution_count": 27,
      "outputs": [
        {
          "output_type": "stream",
          "name": "stdout",
          "text": [
            "1. \"The Ultimate Tug-of-War Challenge\": Set up a mini tug-of-war competition in the classroom, dividing the students into two teams. Before starting, ask the students to predict which team will win based on their strength. After a few rounds, explain that this activity demonstrates Newton's Third Law of Motion, where the force exerted by one team is equal and opposite to the force exerted by the other team.\n",
            "\n",
            "2. \"Superhero Showdown\": Begin the lesson by showing a video clip of a superhero movie where the hero is flying through the air or punching a villain. Ask the students how they think the superhero is able to perform such incredible feats. After discussing their ideas, introduce Newton's Third Law of Motion and explain how it applies to the superhero's actions.\n",
            "\n",
            "3. \"Egg Drop Challenge\": Bring in a variety of materials such as straws, popsicle sticks, rubber bands, and tape. Explain to the students that their challenge is to design a contraption that will protect an egg from breaking when dropped from a certain height. Before they start building, ask them to brainstorm ideas on how they can use Newton's Third Law of Motion to create a successful design. This hands-on activity will engage students and allow them to apply their understanding of the law.\n",
            "\n",
            "4. \"Balloon Rockets Race\": Set up a race track using a long string or fishing line across the classroom. Give each student a balloon and a straw. Instruct them to blow up the balloon and tape it to the straw, creating a balloon rocket. Have the students race their balloon rockets along the track. After the race, discuss how the action of the air being forced out of the balloon in one direction propels the rocket forward, demonstrating Newton's Third Law of Motion.\n",
            "\n",
            "5. \"Human Bumper Cars\": Divide the students into pairs and give each pair a large exercise ball. Instruct them to stand facing each other and push the exercise balls towards each other at the same time. As the balls collide, ask the students to observe and describe what happens. Discuss how the force exerted by one ball on the other is equal and opposite, illustrating Newton's Third Law of Motion.\n"
          ]
        }
      ]
    },
    {
      "cell_type": "markdown",
      "source": [
        "1.3 Few Shot Prompting\n",
        "**bold text**"
      ],
      "metadata": {
        "id": "EAlJWZpJXpig"
      }
    },
    {
      "cell_type": "code",
      "source": [
        "system_message = \"\"\"Create a list of 3-5 engaging lesson hooks for a  lesson keeping in mind the grade of the students.\n",
        "The hooks should be designed to capture students' attention and interest at the start of the lesson.\n",
        "Consider the developmental needs and interests of students at this age when crafting the hooks.\"\"\""
      ],
      "metadata": {
        "id": "Sa1tg8paXt2n"
      },
      "execution_count": 30,
      "outputs": []
    },
    {
      "cell_type": "code",
      "source": [
        "messsages = [\n",
        "    {\"role\": \"system\", \"content\": system_message},\n",
        "\n",
        "    {\"role\": \"user\", \"content\": \"Create a lesson hook on States of Matter for grade 5\"},\n",
        "    {\"role\": \"assistant\", \"content\": \"\"\"Bring in a few different objects (e.g., ice cube, piece of metal, balloon) and ask students to describe their properties.\n",
        "Then reveal that these objects are all made of the same basic building blocks - atoms and molecules - just in different states.\"\"\"},\n",
        "\n",
        "    {\"role\": \"user\", \"content\": \"Create a lesson hook on Multiplication for grade 3\"},\n",
        "    {\"role\": \"assistant\", \"content\": \"\"\"Tell a simple story about going to the store and buying multiple items of the same kind (e.g., 3 bags of apples with 4 apples in each bag).\n",
        "Have students act it out with manipulatives to discover multiplication.\"\"\"},\n",
        "\n",
        "    {\"role\": \"user\", \"content\": \"Create a lesson hook on civil war for grade 7\"},\n",
        "    {\"role\": \"assistant\", \"content\": \"\"\"Hook: Read contrasting first-hand accounts from soldiers on opposite sides of a major battle.\n",
        "Discuss how perspectives differ.\"\"\"},\n",
        "\n",
        "    {\"role\": \"user\", \"content\": \"Create a lesson hook on Photosynthesis for grade 7\"},\n",
        "    {\"role\": \"assistant\", \"content\": \"\"\"The Incredible Shrinking Student: Tell students to imagine they are shrinking down to the size of a molecule to take a journey inside a leaf.\n",
        "Use this to introduce the structures involved in photosynthesis.\"\"\"},\n",
        "\n",
        "    {\"role\": \"user\", \"content\": \"Create a lesson hook on Photosynthesis for grade 7\"},\n",
        "    {\"role\": \"assistant\", \"content\": \"\"\"Divide the class into teams, each representing a part of the photosynthesis process.\n",
        "Have them race to complete the process in the correct order.\"\"\"},\n",
        "\n",
        "    {\"role\": \"user\", \"content\": \"Create a lesson hook on Anantomy for grade 6\"},\n",
        "    {\"role\": \"assistant\", \"content\": \"\"\"\"Interview a Body Part\": Assign each student a specific body part or system.\n",
        "Have them create interview questions and then act out an interview with their assigned part, discussing its functions, challenges, and fun facts.\n",
        "\"\"\"},\n",
        "\n",
        "    {\"role\": \"user\", \"content\": \"Create a lesson hook on Ancient Civilizations for grade 7\"},\n",
        "    {\"role\": \"assistant\", \"content\": \"\"\"\"\"The Lost Civilization\": Students are archaeologists who have discovered a long-lost civilization.\n",
        "As they uncover artifacts and decipher ancient texts, they learn about the culture, achievements, and eventual decline of this mysterious society, inspiring a deep dive into ancient history.\n",
        "Question Hook: \"Why do some societies thrive while others collapse? Is it simply a matter of luck, or are there underlying patterns?\" This hook is ideal for a unit on the rise and fall of ancient civilizations.\n",
        "\"\"\"},\n",
        "    {\"role\": \"user\", \"content\": user_prompt}\n",
        "    ]"
      ],
      "metadata": {
        "id": "dmkS-Y15XuCW"
      },
      "execution_count": 31,
      "outputs": []
    },
    {
      "cell_type": "markdown",
      "source": [
        "Question 4 - Fill the below code block\n"
      ],
      "metadata": {
        "id": "rHjPpCkJX_3T"
      }
    },
    {
      "cell_type": "code",
      "source": [
        "response = client.chat.completions.create(\n",
        "    model=model_name,\n",
        "    messages=messages,\n",
        "    n=2,# <- This will ask the model to present two choices for completion\n",
        "    temperature=0.8\n",
        ")"
      ],
      "metadata": {
        "id": "loCrC9chYDOz"
      },
      "execution_count": 32,
      "outputs": []
    },
    {
      "cell_type": "code",
      "source": [
        "print(response.choices[0].message.content)\n"
      ],
      "metadata": {
        "colab": {
          "base_uri": "https://localhost:8080/"
        },
        "id": "foI4smo0YDRS",
        "outputId": "35d6862b-50af-429e-9e88-c4933d0d6809"
      },
      "execution_count": 33,
      "outputs": [
        {
          "output_type": "stream",
          "name": "stdout",
          "text": [
            "1. \"The Human Sling Shot\": Set up a mini \"sling shot\" using a bungee cord or elastic bands and a chair. Invite a brave volunteer to sit on the chair, hold on to the bands, and let go. As they are flung forward, explain that this is an example of Newton's third law of motion in action - for every action, there is an equal and opposite reaction.\n",
            "\n",
            "2. \"Egg Drop Challenge\": Bring in a variety of materials such as straws, cotton balls, and popsicle sticks, along with a raw egg. Challenge the students to design a contraption that will protect the egg when dropped from a certain height. Emphasize how the contraption's design needs to consider Newton's third law, ensuring that the force of impact is counteracted by an equal and opposite force.\n",
            "\n",
            "3. \"Superhero Showdown\": Introduce the concept of Newton's third law by discussing how superhero movies often depict characters with superhuman strength. Ask the students to brainstorm how these characters are able to perform incredible feats, such as launching themselves into the air or punching through walls. Explain that their abilities can be explained by Newton's third law and demonstrate with simple examples, like explaining how Spiderman's web-swinging ability is based on the principle of equal and opposite reaction.\n",
            "\n",
            "4. \"Tug of War\": Divide the students into two teams and set up a classic game of tug of war. Before they start pulling, ask them to think about what forces might be at play during the game. After the game, discuss how the forces exerted by each team are equal and opposite, resulting in a balanced game. Relate this back to Newton's third law and explain how the forces exerted by each side affect the overall movement.\n",
            "\n",
            "5. \"Balloons and Air Rockets\": Bring in a few balloons and demonstrate how, when filled with air and released without being tied, they fly around the room chaotically. Ask the students to observe and describe what they see, then explain that the balloon's movement is due to Newton's third law. The air escaping from the balloon creates a force that propels it in the opposite direction.\n"
          ]
        }
      ]
    },
    {
      "cell_type": "code",
      "source": [
        "print(response.choices[1].message.content)\n"
      ],
      "metadata": {
        "colab": {
          "base_uri": "https://localhost:8080/"
        },
        "id": "ShbEG1bzYXYi",
        "outputId": "446158a9-0c7d-42b1-8ddd-5fa4669fa521"
      },
      "execution_count": 34,
      "outputs": [
        {
          "output_type": "stream",
          "name": "stdout",
          "text": [
            "1. \"The Human Sling Shot\": Set up a mini sling shot in the classroom using rubber bands and a small toy. Demonstrate how pulling back on the rubber band causes the toy to fly forward. Ask students if they can explain why this happens. Introduce Newton's Third Law of Motion and explain how every action has an equal and opposite reaction.\n",
            "\n",
            "2. \"Crash Test Dummies\": Show a video clip of crash tests involving cars and dummies. Discuss the forces at play during a collision and how they relate to Newton's Third Law of Motion. Ask students to brainstorm ways in which the principle could be applied to increase safety in vehicles.\n",
            "\n",
            "3. \"Egg Drop Challenge\": Challenge students to design a contraption that will protect an egg from breaking when dropped from a certain height. Explain that they will need to consider Newton's Third Law of Motion when designing their contraption. This hands-on activity will engage students' creativity and problem-solving skills while reinforcing the concept of action and reaction forces.\n",
            "\n",
            "4. \"Balloon Rocket Race\": Set up a race using balloon rockets. Give each student a balloon, a string, and a straw. Instruct them to blow up the balloon and attach it to the string using the straw. When they release the air from the balloon, it propels the straw forward. Discuss with students how the movement of the balloon rocket relates to Newton's Third Law of Motion.\n",
            "\n",
            "5. \"Superhero Showdown\": Introduce Newton's Third Law of Motion using superheroes as examples. Show images or video clips of superheroes in action, such as Superman pushing against a building or Spider-Man swinging from a web. Discuss how their actions demonstrate the principle of action and reaction forces. Engage students by asking them to come up with their own superhero scenarios that illustrate Newton's Third Law.\n"
          ]
        }
      ]
    },
    {
      "cell_type": "code",
      "source": [],
      "metadata": {
        "id": "2nKSqfwqYZdH"
      },
      "execution_count": null,
      "outputs": []
    },
    {
      "cell_type": "markdown",
      "source": [
        "he performance of few-shot prompting is tied to the examples provided in the prompt and also on the nature of the task. In this task, few-shot is not significantly better than zero-shot. Better examples could lead to better results.\n",
        "\n",
        "Using examples, you can drive guide the LLM's response in new directions. You can use as many examples as you wish, however, with each new example you are increasing the token consumption per API call which will lead to higher costs. The number of examples should be optimised by iteratively adding and removing examples and checking its effect on performance.\n",
        "\n",
        "Checking performance on a generation task can be challenging. In the next week, we will do the same exercise of optimising examples in a few-shot prompt for a classification task where it is easier to gauge the performance.\n",
        "\n",
        "At the start, we said a lesson hook should have the following qualities.\n",
        "\n",
        "Grabbing Attention\n",
        "\n",
        "Generating Curiosity\n",
        "\n",
        "Creating Relevance\n",
        "\n",
        "Building Enthusiasm\n",
        "\n",
        "Establishing Connection\n",
        "\n",
        "We can use enforce these qualities in the llm's response by crafting a chain of thought prompt.\n",
        "\n",
        "1.4 CoT"
      ],
      "metadata": {
        "id": "pIKaaUpEYiYD"
      }
    },
    {
      "cell_type": "markdown",
      "source": [
        "1.4 CoT\n",
        "**bold text**"
      ],
      "metadata": {
        "id": "2p7g5ll6YkV4"
      }
    },
    {
      "cell_type": "code",
      "source": [
        "cot_prompt = \"\"\"\n",
        " Create an engaging lesson hooks for a topic for a given grade level classroom.\n",
        " The hooks should be designed to capture students' attention and interest at the start of the lesson.\n",
        " Consider the developmental needs and interests of students at this age when crafting the hooks.\n",
        "\n",
        "Below are 5 steps you need to follow to craft the lesson hook. At each step, you should check if any rewriting of the hook is necessary.\n",
        "If so, add or remove text to aligh with the step. At the end, you should give me a lesson hook that follows all the guidelines.\n",
        "At each step, evaluate if the current core of the hook is effective.\n",
        "If at any point you feel like the current hook is ineffective, you should restart crafting the hook with a new core idea.\n",
        "\n",
        "Step 1: Identify the lesson topic and key concepts\n",
        "- What is the main subject or theme of the lesson?\n",
        "- What are the most important ideas or skills students should learn?\n",
        "\n",
        "Step 2: Consider the students' interests, experiences, and prior knowledge\n",
        "- What do the students already know about this topic?\n",
        "- What aspects of the topic might the students find most interesting or relatable to their lives?\n",
        "- What current events, popular culture references, or real-world examples could help connect the lesson to the students' experiences?\n",
        "\n",
        "Step 3: Brainstorm attention-grabbing opening techniques\n",
        "- Could you start with a surprising fact, statistic, or statement related to the topic?\n",
        "- Is there a thought-provoking question you could pose to the students?\n",
        "- Could you present a mysterious or intriguing scenario that ties into the lesson?\n",
        "- Would a short, engaging story or anecdote help capture the students' attention?\n",
        "\n",
        "Step 4: Incorporate elements of curiosity and relevance\n",
        "- How can you frame the hook to make students curious to learn more about the topic?\n",
        "- What aspects of the hook will make the lesson feel relevant and meaningful to the students' lives or interests?\n",
        "- Could you hint at an exciting activity, demonstration, or revelation to come later in the lesson?\n",
        "\n",
        "\n",
        "At the end, evaluate all the ideas you have created and finally choose a single lesson hook that's best suited.\n",
        "Explain why it's the best lesson hook and then write the best lesson hook.\n",
        "\"\"\""
      ],
      "metadata": {
        "id": "OccTZEHcYp2_"
      },
      "execution_count": 35,
      "outputs": []
    },
    {
      "cell_type": "code",
      "source": [
        "user_prompt = \"Create a lesson hook for a lesson on newton's third law of motion for grade 8 students\"\n"
      ],
      "metadata": {
        "id": "L-QVjf10Yu2e"
      },
      "execution_count": 36,
      "outputs": []
    },
    {
      "cell_type": "code",
      "source": [
        "messages = [\n",
        "    {\"role\": \"system\", \"content\": cot_prompt},\n",
        "    {\"role\": \"user\", \"content\": user_prompt}\n",
        "]"
      ],
      "metadata": {
        "id": "46C00oyBYw4w"
      },
      "execution_count": 37,
      "outputs": []
    },
    {
      "cell_type": "markdown",
      "source": [
        "Question 5 - Create response and print\n"
      ],
      "metadata": {
        "id": "cempybGUY19_"
      }
    },
    {
      "cell_type": "code",
      "source": [
        "#response\n",
        "response = client.chat.completions.create(\n",
        "    model=model_name,\n",
        "    messages=messages,\n",
        "    n=2,# <- This will ask the model to present two choices for completion\n",
        "    temperature=0.8\n",
        ")"
      ],
      "metadata": {
        "id": "522bQ6S1Y4L4"
      },
      "execution_count": 38,
      "outputs": []
    },
    {
      "cell_type": "code",
      "source": [
        "#print choices[0]\n",
        "print(response.choices[0].message.content)\n"
      ],
      "metadata": {
        "colab": {
          "base_uri": "https://localhost:8080/"
        },
        "id": "XOahTxkwY_Ud",
        "outputId": "cccaa2af-0ee5-4eaa-aacd-6f388b2b1084"
      },
      "execution_count": 40,
      "outputs": [
        {
          "output_type": "stream",
          "name": "stdout",
          "text": [
            "Step 1: \n",
            "- The main subject of the lesson is Newton's third law of motion.\n",
            "- The key concept students should learn is that for every action, there is an equal and opposite reaction.\n",
            "\n",
            "Step 2: \n",
            "- Grade 8 students may have some prior knowledge about force and motion.\n",
            "- They might find it interesting to learn about the science behind everyday actions, such as bouncing balls or pushing objects.\n",
            "- Examples from popular culture, such as action movie stunts or sports activities, could help connect the lesson to their experiences.\n",
            "\n",
            "Step 3: \n",
            "- Start with a surprising fact: \"Did you know that every time you jump, you're actually pushing the Earth away from you?\"\n",
            "- Pose a thought-provoking question: \"Have you ever wondered why a rocket goes up into the sky instead of just crashing down to the ground?\"\n",
            "- Present a mysterious scenario: \"Imagine you're standing on a skateboard, and you push against a wall. What do you think will happen?\"\n",
            "- Share a short anecdote: \"I once saw a video of a person lying on a skateboard, holding a fire extinguisher and spraying it backward. Can you guess what happened next?\"\n",
            "\n",
            "Step 4: \n",
            "- Frame the hook to make students curious: \"Today, we're going to explore a law of motion that explains why things move in certain ways. You won't believe the surprising connections we'll discover!\"\n",
            "- Make the lesson relevant: \"Understanding Newton's third law of motion can help us explain how athletes perform amazing feats or how vehicles travel at high speeds.\"\n",
            "- Hint at an exciting activity: \"Later in the lesson, we'll conduct an experiment to see Newton's third law in action. Get ready to be amazed!\"\n",
            "\n",
            "The best lesson hook would be:\n",
            "\"Did you know that every time you jump, you're actually pushing the Earth away from you? Today, we're going to dive into the fascinating world of Newton's third law of motion. By the end of this lesson, you'll understand why actions have equal and opposite reactions. Get ready to uncover the secrets behind incredible stunts, sports activities, and even everyday movements. Plus, we have an exciting experiment coming up that will truly blow your mind. Are you ready to be a force of motion?\"\n"
          ]
        }
      ]
    },
    {
      "cell_type": "code",
      "source": [
        "#print choices[1]\n",
        "\n",
        "print(response.choices[1].message.content)\n"
      ],
      "metadata": {
        "colab": {
          "base_uri": "https://localhost:8080/"
        },
        "id": "0QOCFH60ZF-Q",
        "outputId": "2c418fa3-c2dc-4070-b225-65bddbbdc148"
      },
      "execution_count": 41,
      "outputs": [
        {
          "output_type": "stream",
          "name": "stdout",
          "text": [
            "Step 1: Identify the lesson topic and key concepts\n",
            "- The main subject of the lesson is Newton's Third Law of Motion.\n",
            "- The key concept students should learn is that for every action, there is an equal and opposite reaction.\n",
            "\n",
            "Step 2: Consider the students' interests, experiences, and prior knowledge\n",
            "- Students may already be familiar with the concept of motion and forces from previous lessons.\n",
            "- They may find examples from the real world, such as sports or everyday activities, interesting and relatable.\n",
            "\n",
            "Step 3: Brainstorm attention-grabbing opening techniques\n",
            "- Start with a surprising fact, such as how a small action can have a big reaction.\n",
            "- Pose a thought-provoking question, such as \"Have you ever wondered why you move backward when you jump off a boat?\"\n",
            "- Present a mysterious or intriguing scenario, like a magician performing a trick using Newton's Third Law of Motion.\n",
            "- Share a short, engaging story or anecdote about a real-life situation where Newton's Third Law was applied.\n",
            "\n",
            "Step 4: Incorporate elements of curiosity and relevance\n",
            "- Frame the hook to make students curious about the practical applications of Newton's Third Law in their everyday lives.\n",
            "- Make the hook relevant and meaningful by connecting it to activities or sports they enjoy, like riding a skateboard or kicking a soccer ball.\n",
            "- Hint at an exciting activity or demonstration later in the lesson, such as a hands-on experiment involving toy cars colliding.\n",
            "\n",
            "After evaluating the ideas, the best lesson hook for a lesson on Newton's Third Law of Motion for grade 8 students would be:\n",
            "\n",
            "\"Have you ever wondered why you move backward when you jump off a boat? Well, get ready to uncover the secret behind this mysterious phenomenon as we dive into Newton's Third Law of Motion! Brace yourselves for a thrilling exploration of how every action has an equal and opposite reaction. From sports to everyday activities, this law is at play all around us, and we'll discover its practical applications in ways you never imagined. Stay tuned for an exciting hands-on experiment where we'll witness the power of Newton's Third Law firsthand. Get ready to be amazed!\" \n",
            "\n",
            "This hook starts with a thought-provoking question that captures students' curiosity. It then connects the topic to their everyday experiences, making it relatable and relevant. The mention of an exciting hands-on experiment adds an element of anticipation and excitement for the rest of the lesson.\n"
          ]
        }
      ]
    },
    {
      "cell_type": "markdown",
      "source": [
        "We got lesson hooks that are more comprehensive but not necessarily better solution for teachers. While CoT provides a collection of creative hooks for teachers to choose from, Few-shot offers a single, more comprehensive lesson hook. The choice between them ultimately depends on the teacher's preference. It's important to consider the teacher's input to determine the appropriate prompting technique. You can experiment with different parameters to find the optimal combination. As mentioned before, prompting is an iterative process.\n",
        "\n",
        "2 Crafting Examples\n",
        "The lesson hook engages the students and makes the class exciting and interactive. However, we also need to provide ample amount of examples to make the learning relevant to the real world.\n",
        "\n",
        "Teachers often do not have the time to brainstorm real world examples. LLMs are of great help here. A list of examples can also be provided as additional material for the students.\n",
        "\n",
        "What do you think is a sufficient prompting technique to craft examples for a topic?\n",
        "\n",
        "While it's often observed that Chain of though (COT) and Few-Shot prompting tend to yield superior results compared to Zero-Shot Learning, it's important to note their token-intensive nature, which invariably leads to higher costs. For companies like Khanmigo, operating on a subscription-based revenue model, mitigating such expenses is crucial. In instances where Zero-Shot Learning demonstrates comparable performance, it should be the preferred option.\n",
        "\n",
        "In the context of crafting examples, Zero-Shot prompting stands out as an apt choice.\n",
        "\n",
        "However, give that this has a creative element to it, what do you think should be the temperature, top-k, top-p should be for this exercise? High or Low ?"
      ],
      "metadata": {
        "id": "wc8LmmXuZT5E"
      }
    },
    {
      "cell_type": "markdown",
      "source": [
        "2.1 Zero Shot\n",
        "**bold text**"
      ],
      "metadata": {
        "id": "cYxZ1BUhZV6p"
      }
    },
    {
      "cell_type": "code",
      "source": [
        "example_prompt = \"\"\"Write 10 examples for the following lesson material. Add a brief explanation of the example.\n",
        "The lesson material is:\n",
        "\n",
        "{material}\n",
        "\n",
        "\"\"\""
      ],
      "metadata": {
        "id": "Rf-3ZIooZZgm"
      },
      "execution_count": 42,
      "outputs": []
    },
    {
      "cell_type": "code",
      "source": [
        "user_input = \"\"\"\n",
        "**Lesson Material:**\n",
        "\n",
        "Title: Understanding Newton's Third Law: Action and Reaction\n",
        "\n",
        "**Objective:**\n",
        "By the end of this lesson, students will be able to:\n",
        "\n",
        "1. Define Newton's Third Law of Motion.\n",
        "2. Identify action and reaction force pairs in various scenarios.\n",
        "3. Explain real-life applications of Newton's Third Law.\n",
        "\n",
        "**Body:**\n",
        "\n",
        "**1. What is Newton's Third Law?**\n",
        "   - Explain that Newton's Third Law states: \"For every action, there is an equal and opposite reaction.\"\n",
        "   - Break down the meaning of this law: when one object exerts a force on a second object, the second object exerts a force of equal magnitude in the opposite direction on the first object.\n",
        "\n",
        "**2. Action and Reaction Pairs:**\n",
        "   - Provide examples and ask students to identify the action and reaction force pairs in each scenario. Examples could include:\n",
        "     - A person pushing against a wall.\n",
        "     - A ball bouncing off the ground.\n",
        "     - A swimmer pushing against the water.\n",
        "   - Encourage students to think about the forces involved and how they act on different objects.\n",
        "\n",
        "**3. Real-Life Applications:**\n",
        "   - Discuss real-life examples where Newton's Third Law is at play, such as:\n",
        "     - Rocket propulsion: The action force is the expulsion of gas from the rocket engines, and the reaction force is the resulting upward movement of the rocket.\n",
        "     - Walking: Each step involves pushing against the ground, which pushes back with an equal force, propelling the person forward.\n",
        "     - Driving a car: The tires push against the road, and the road pushes back, propelling the car forward.\n",
        "   - Encourage students to brainstorm other examples they encounter in daily life.\n",
        "\n",
        "\"\"\""
      ],
      "metadata": {
        "id": "r0jBb0V4Zdgn"
      },
      "execution_count": 43,
      "outputs": []
    },
    {
      "cell_type": "code",
      "source": [
        "response = client.chat.completions.create(\n",
        "    messages = [{\"role\": \"user\", \"content\": example_prompt.format(material = user_input)}],\n",
        "    model = model_name,\n",
        "    max_tokens=1024,\n",
        "    temperature=0.0\n",
        ")"
      ],
      "metadata": {
        "id": "2QfQGK_fZf1Y"
      },
      "execution_count": 44,
      "outputs": []
    },
    {
      "cell_type": "code",
      "source": [
        "print(response.choices[0].message.content)\n"
      ],
      "metadata": {
        "colab": {
          "base_uri": "https://localhost:8080/"
        },
        "id": "09wys0pvZwgl",
        "outputId": "bb422900-1887-45dd-e078-dda50ebfa5f4"
      },
      "execution_count": 45,
      "outputs": [
        {
          "output_type": "stream",
          "name": "stdout",
          "text": [
            "4. Balloon Rocket: Inflate a balloon and tape a string to it. When the air is released from the balloon, the action force is the air rushing out, and the reaction force is the balloon moving in the opposite direction.\n",
            "   - This example demonstrates Newton's Third Law in a simple and visual way, showing how the action of the air rushing out of the balloon creates a reaction force that propels the balloon forward.\n",
            "\n",
            "5. Jumping on a Trampoline: When a person jumps on a trampoline, the action force is the person pushing down on the trampoline, and the reaction force is the trampoline pushing the person back up.\n",
            "   - This example illustrates how the force exerted by the person on the trampoline results in an equal and opposite force that propels the person back into the air.\n",
            "\n",
            "6. Shooting a Basketball: When a basketball player shoots the ball, the action force is the player pushing the ball with their hand, and the reaction force is the ball being propelled forward.\n",
            "   - This example shows how the force exerted by the player on the ball results in an equal and opposite force that causes the ball to move towards the basket.\n",
            "\n",
            "7. Rowing a Boat: When a person rows a boat, the action force is the person pulling the oars through the water, and the reaction force is the water pushing the boat in the opposite direction.\n",
            "   - This example demonstrates how the force exerted by the person on the water with the oars results in an equal and opposite force that propels the boat forward.\n",
            "\n",
            "8. Pushing a Shopping Cart: When a person pushes a shopping cart, the action force is the person pushing the cart forward, and the reaction force is the cart pushing back against the person.\n",
            "   - This example highlights how the force exerted by the person on the cart results in an equal and opposite force that allows the cart to move.\n",
            "\n",
            "9. Kicking a Soccer Ball: When a soccer player kicks the ball, the action force is the player's foot making contact with the ball, and the reaction force is the ball being propelled forward.\n",
            "   - This example shows how the force exerted by the player on the ball results in an equal and opposite force that causes the ball to move towards the goal.\n",
            "\n",
            "10. Opening a Door: When a person opens a door, the action force is the person pushing or pulling the door, and the reaction force is the door moving in the opposite direction.\n",
            "    - This example demonstrates how the force exerted by the person on the door results in an equal and opposite force that allows the door to swing open or closed.\n"
          ]
        }
      ]
    },
    {
      "cell_type": "code",
      "source": [],
      "metadata": {
        "id": "PcdwRQrYZw0T"
      },
      "execution_count": null,
      "outputs": []
    },
    {
      "cell_type": "markdown",
      "source": [
        "These are nice examples but they are very common ones. The teacher can come up with such examples themselves. Let's try to get examples that are uncommon. One way to do that is by making the LLM chose uncommon words at each step. Let's set the top-p high so that the model choses new low probabilty words as well."
      ],
      "metadata": {
        "id": "JMyZbJRAZyaE"
      }
    },
    {
      "cell_type": "markdown",
      "source": [
        "2.2 Top p\n"
      ],
      "metadata": {
        "id": "Ge5SGEEsZzRf"
      }
    },
    {
      "cell_type": "code",
      "source": [
        "response = client.chat.completions.create(\n",
        "    messages = [{\"role\": \"user\", \"content\": example_prompt.format(material = user_input)}],\n",
        "    model = model_name,\n",
        "    max_tokens=1000,\n",
        "    temperature=0.95,\n",
        "    top_p = 0.6\n",
        ")"
      ],
      "metadata": {
        "id": "dBRNqcGkZ1YC"
      },
      "execution_count": 47,
      "outputs": []
    },
    {
      "cell_type": "code",
      "source": [
        "print(response.choices[0].message.content)\n"
      ],
      "metadata": {
        "colab": {
          "base_uri": "https://localhost:8080/"
        },
        "id": "IDMEIeo4Z26g",
        "outputId": "00e66fc9-cacc-4648-94bc-8f9b274a4d15"
      },
      "execution_count": 48,
      "outputs": [
        {
          "output_type": "stream",
          "name": "stdout",
          "text": [
            "4. Jumping on a trampoline: When a person jumps on a trampoline, their downward force on the trampoline causes the trampoline to exert an equal and opposite upward force, propelling the person into the air.\n",
            "5. Balloon rocket: When air is released from a balloon, the action force is the air being expelled backward, and the reaction force is the balloon being propelled forward.\n",
            "6. Shooting a gun: When a gun is fired, the action force is the explosion of gases pushing the bullet forward, and the reaction force is the gun recoiling backward.\n",
            "7. Swimming with flippers: When a swimmer kicks their legs with flippers, the action force is the swimmer pushing against the water, and the reaction force is the water pushing the swimmer forward.\n",
            "8. Rowing a boat: When a rower pulls the oars through the water, the action force is the rower pushing against the water, and the reaction force is the water pushing the boat in the opposite direction.\n",
            "9. Playing table tennis: When a player hits the ball with a paddle, the action force is the paddle striking the ball, and the reaction force is the ball pushing back against the paddle.\n",
            "10. Riding a skateboard: When a skateboarder pushes their foot against the ground to gain momentum, the action force is the foot pushing against the ground, and the reaction force is the ground pushing the skateboard and skateboarder forward.\n"
          ]
        }
      ]
    },
    {
      "cell_type": "code",
      "source": [],
      "metadata": {
        "id": "Tkv4mmC3Z-uG"
      },
      "execution_count": null,
      "outputs": []
    },
    {
      "cell_type": "markdown",
      "source": [
        "Good! However, we might want to use newer contexts to make it novel. So increasing one of frequency penalty and presence penaltys should do the trick. (Changing the prompt will also works here. But let's see how frequency penalty individually affects the response.)\n",
        "\n",
        "presence_penalty: Optional - Number between -2.0 and 2.0. - Defaults to 0 Positive values penalize new tokens based on whether they appear in the text so far, increasing the model's likelihood to talk about new topics.\n",
        "\n",
        "frequency_penalty - Optional - Number between -2.0 and 2.0. - Defaults to 0 Positive values penalize new tokens based on their existing frequency in the text so far, decreasing the model's likelihood to repeat the same line verbatim.\n",
        "\n",
        "Let's set the frequency penalty high so that we get new words."
      ],
      "metadata": {
        "id": "d2bj9X5haDYm"
      }
    },
    {
      "cell_type": "code",
      "source": [],
      "metadata": {
        "id": "1chrgJOfaD8D"
      },
      "execution_count": null,
      "outputs": []
    },
    {
      "cell_type": "markdown",
      "source": [
        "2.3 Penalties\n",
        "Question 7 - Make response"
      ],
      "metadata": {
        "id": "2hTX-__haGW2"
      }
    },
    {
      "cell_type": "code",
      "source": [
        "#response\n",
        "response = client.chat.completions.create(\n",
        "    messages = [{\"role\": \"user\", \"content\": example_prompt.format(material = user_input)}],\n",
        "    model = model_name,\n",
        "    max_tokens=1000,\n",
        "    temperature=0.95,\n",
        "    top_p = 0.5\n",
        ")"
      ],
      "metadata": {
        "id": "zSDpvANFaG8n"
      },
      "execution_count": 49,
      "outputs": []
    },
    {
      "cell_type": "code",
      "source": [
        "# print choices[0]\n",
        "print(response.choices[0].message.content)\n"
      ],
      "metadata": {
        "colab": {
          "base_uri": "https://localhost:8080/"
        },
        "id": "3_qZxy5XaUtf",
        "outputId": "b745ebb3-558e-40ae-f6b4-fd307eb007f9"
      },
      "execution_count": 50,
      "outputs": [
        {
          "output_type": "stream",
          "name": "stdout",
          "text": [
            "4. Balloon Rocket: Inflate a balloon and attach a string to it. When the air is released from the balloon, it propels the balloon forward. The action force is the air being released from the balloon, and the reaction force is the balloon moving in the opposite direction.\n",
            "\n",
            "5. Jumping on a Trampoline: When a person jumps on a trampoline, the trampoline surface pushes back with an equal force, propelling the person higher into the air. The action force is the person pushing down on the trampoline, and the reaction force is the trampoline pushing back.\n",
            "\n",
            "6. Swimming with Fins: When a swimmer kicks their legs with fins, the water pushes back with an equal force, propelling the swimmer forward. The action force is the swimmer pushing against the water with their fins, and the reaction force is the water pushing back.\n",
            "\n",
            "7. Shooting a Gun: When a gun is fired, the bullet is propelled forward, while the gun recoils backward. The action force is the explosion of gas propelling the bullet forward, and the reaction force is the gun recoiling backward.\n",
            "\n",
            "8. Bouncing on a Trampoline: When a person jumps on a trampoline and lands, the trampoline surface pushes back with an equal force, propelling the person back into the air. The action force is the person landing on the trampoline, and the reaction force is the trampoline pushing back.\n",
            "\n",
            "9. Rowing a Boat: When a rower pulls the oars through the water, the water pushes back with an equal force, propelling the boat forward. The action force is the rower pulling the oars through the water, and the reaction force is the water pushing back.\n",
            "\n",
            "10. Throwing a Ball: When a ball is thrown, the hand exerts a force on the ball, and the ball exerts an equal force in the opposite direction on the hand. The action force is the hand pushing the ball, and the reaction force is the ball pushing back on the hand.\n"
          ]
        }
      ]
    },
    {
      "cell_type": "code",
      "source": [],
      "metadata": {
        "id": "k1sAVs6JaW_s"
      },
      "execution_count": null,
      "outputs": []
    },
    {
      "cell_type": "markdown",
      "source": [
        "Slight Improvement. Let's also change the prompt.\n",
        "\n"
      ],
      "metadata": {
        "id": "9RdHkNYraY68"
      }
    },
    {
      "cell_type": "code",
      "source": [
        "example_prompt = \"\"\"Write 10 uncommon examples for the following lesson material.\n",
        "Add a brief explanation of the example.\n",
        "The lesson material is:\n",
        "\n",
        "{material}\n",
        "\n",
        "\"\"\""
      ],
      "metadata": {
        "id": "UEaHUFksaZyc"
      },
      "execution_count": 51,
      "outputs": []
    },
    {
      "cell_type": "code",
      "source": [],
      "metadata": {
        "id": "zYLz5fW-abeh"
      },
      "execution_count": null,
      "outputs": []
    },
    {
      "cell_type": "markdown",
      "source": [
        "Question 8 - Create response and print\n",
        "\n"
      ],
      "metadata": {
        "id": "7ctpJwn1aesV"
      }
    },
    {
      "cell_type": "code",
      "source": [
        "#response\n",
        "response = client.chat.completions.create(\n",
        "    messages = [{\"role\": \"user\", \"content\": example_prompt.format(material = user_input)}],\n",
        "    model = model_name,\n",
        "    max_tokens=1000,\n",
        "    temperature=0.95,\n",
        "    top_p = 0.5\n",
        ")"
      ],
      "metadata": {
        "id": "CrIInF8hafzI"
      },
      "execution_count": 52,
      "outputs": []
    },
    {
      "cell_type": "code",
      "source": [
        "# print choices[0]\n",
        "print(response.choices[0].message.content)\n"
      ],
      "metadata": {
        "colab": {
          "base_uri": "https://localhost:8080/"
        },
        "id": "oVAtoWcqak1B",
        "outputId": "cc78de7a-bd14-41c4-8482-fe13fb458572"
      },
      "execution_count": 53,
      "outputs": [
        {
          "output_type": "stream",
          "name": "stdout",
          "text": [
            "1. A person sitting on a chair: When a person sits on a chair, the person exerts a downward force on the chair, and the chair exerts an equal and opposite upward force on the person.\n",
            "2. A bird flying in the air: When a bird flaps its wings downward, it pushes air downward, and the air pushes the bird upward, allowing it to fly.\n",
            "3. A car crashing into a wall: When a car crashes into a wall, the car exerts a force on the wall, and the wall exerts an equal and opposite force on the car, causing it to come to a stop.\n",
            "4. A tennis player hitting a ball: When a tennis player hits a ball with their racket, the racket exerts a force on the ball, and the ball exerts an equal and opposite force on the racket, causing the ball to bounce off.\n",
            "5. A person jumping off a diving board: When a person jumps off a diving board, they exert a downward force on the board, and the board exerts an equal and opposite upward force on the person, propelling them into the air.\n",
            "6. A rocket launching into space: When a rocket launches into space, the rocket engines exert a force by expelling gas, and the resulting reaction force propels the rocket upward.\n",
            "7. A balloon being inflated: When a balloon is inflated, the air exerts a force on the inside of the balloon, and the balloon exerts an equal and opposite force on the air, causing the balloon to expand.\n",
            "8. A person rowing a boat: When a person rows a boat, they exert a force on the oars, and the oars exert an equal and opposite force on the person, propelling the boat forward.\n",
            "9. A soccer player kicking a ball: When a soccer player kicks a ball, their foot exerts a force on the ball, and the ball exerts an equal and opposite force on their foot, causing the ball to move.\n",
            "10. A person using a shovel to dig a hole: When a person uses a shovel to dig a hole, they exert a force on the shovel, and the shovel exerts an equal and opposite force on the person, allowing them to dig into the ground.\n"
          ]
        }
      ]
    },
    {
      "cell_type": "code",
      "source": [],
      "metadata": {
        "id": "M28jiDmzam5i"
      },
      "execution_count": null,
      "outputs": []
    },
    {
      "cell_type": "markdown",
      "source": [
        "3 Automating Quizzes\n",
        "**bold text**\n",
        "\n",
        "Once the lesson is taught, the subsequent task for a teacher involves crafting a test to assess students' retention. Generating quizzes can be a tedious endeavor. Let's leverage Language Models to automate the quiz creation process."
      ],
      "metadata": {
        "id": "d1iH372OarU8"
      }
    },
    {
      "cell_type": "code",
      "source": [],
      "metadata": {
        "id": "BW3HZ-wxasLJ"
      },
      "execution_count": null,
      "outputs": []
    },
    {
      "cell_type": "markdown",
      "source": [
        "3.1 Zero_shot\n"
      ],
      "metadata": {
        "id": "lfoMX6NsazR3"
      }
    },
    {
      "cell_type": "code",
      "source": [
        "quiz_input = \"\"\"Task: Generate a mcq quiz on the teaching material mentioned above\n",
        "\n",
        "\n",
        "Output Format:\n",
        "Use the following format for each question:\n",
        "\n",
        "Question: [QUESTION TEXT]\n",
        "Options:\n",
        "a) [OPTION A]\n",
        "b) [OPTION B]\n",
        "c) [OPTION C]\n",
        "d) [OPTION D]\n",
        "\n",
        "Correct option: [Correct Option]\n",
        "\n",
        "Incorrect Answers:\n",
        "a) [EXPLANATION FOR OPTION A BEING INCORRECT]\n",
        "b) [EXPLANATION FOR OPTION B BEING INCORRECT]\n",
        "c) [EXPLANATION FOR OPTION C BEING INCORRECT]\n",
        "d) [EXPLANATION FOR OPTION D BEING INCORRECT]\n",
        "\n",
        "\"\"\"\n",
        "user_input = \"\"\"\n",
        "**Lesson Material:**\n",
        "\n",
        "Title: Understanding Newton's Third Law: Action and Reaction\n",
        "\n",
        "Objective: By the end of this lesson, students will be able to:\n",
        "\n",
        "Define Newton's Third Law of Motion.\n",
        "Identify action and reaction force pairs in various scenarios.\n",
        "Explain real-life applications of Newton's Third Law.\n",
        "Body:\n",
        "\n",
        "1. What is Newton's Third Law?\n",
        "\n",
        "Explain that Newton's Third Law states: \"For every action, there is an equal and opposite reaction.\"\n",
        "Break down the meaning of this law: when one object exerts a force on a second object, the second object exerts a force of equal magnitude in the opposite direction on the first object.\n",
        "2. Action and Reaction Pairs:\n",
        "\n",
        "Provide examples and ask students to identify the action and reaction force pairs in each scenario. Examples could include:\n",
        "A person pushing against a wall.\n",
        "A ball bouncing off the ground.\n",
        "A swimmer pushing against the water.\n",
        "Encourage students to think about the forces involved and how they act on different objects.\n",
        "3. Real-Life Applications:\n",
        "\n",
        "Discuss real-life examples where Newton's Third Law is at play, such as:\n",
        "Rocket propulsion: The action force is the expulsion of gas from the rocket engines, and the reaction force is the resulting upward movement of the rocket.\n",
        "Walking: Each step involves pushing against the ground, which pushes back with an equal force, propelling the person forward.\n",
        "Driving a car: The tires push against the road, and the road pushes back, propelling the car forward.\n",
        "Encourage students to brainstorm other examples they encounter in daily life.\"\"\""
      ],
      "metadata": {
        "id": "VmcJw23pa0Hw"
      },
      "execution_count": 56,
      "outputs": []
    },
    {
      "cell_type": "code",
      "source": [
        "messages = [{\"role\":\"user\",\"content\":user_input+quiz_input}]\n"
      ],
      "metadata": {
        "id": "VYdn5zSAa8Fu"
      },
      "execution_count": 57,
      "outputs": []
    },
    {
      "cell_type": "markdown",
      "source": [
        "Question 9 - Create response and print\n"
      ],
      "metadata": {
        "id": "KS6UyUPEbGv3"
      }
    },
    {
      "cell_type": "code",
      "source": [
        "#response\n",
        "response = client.chat.completions.create(\n",
        "    messages = [{\"role\": \"user\", \"content\": example_prompt.format(material = user_input)}],\n",
        "    model = model_name,\n",
        "    max_tokens=1000,\n",
        "    temperature=0.95,\n",
        "    top_p = 0.5\n",
        ")"
      ],
      "metadata": {
        "id": "tLfSwj12a_p2"
      },
      "execution_count": 58,
      "outputs": []
    },
    {
      "cell_type": "code",
      "source": [],
      "metadata": {
        "id": "XfQCwyuibw43"
      },
      "execution_count": null,
      "outputs": []
    },
    {
      "cell_type": "code",
      "source": [
        "# print choices[0]\n",
        "print(response.choices[0].message.content)\n"
      ],
      "metadata": {
        "colab": {
          "base_uri": "https://localhost:8080/"
        },
        "id": "vFt4WquTbK7T",
        "outputId": "048c5e61-512b-4204-c432-f6d7ae231d11"
      },
      "execution_count": 59,
      "outputs": [
        {
          "output_type": "stream",
          "name": "stdout",
          "text": [
            "1. A bird flapping its wings: The action force is the bird pushing the air downward with its wings, and the reaction force is the air pushing the bird upward, allowing it to fly.\n",
            "2. A person jumping off a diving board: The action force is the person pushing off the diving board, and the reaction force is the diving board pushing the person upward into the air.\n",
            "3. A tennis player hitting a ball: The action force is the tennis player hitting the ball with their racket, and the reaction force is the ball pushing back against the racket, causing it to move in the opposite direction.\n",
            "4. A car crashing into a wall: The action force is the car colliding with the wall, and the reaction force is the wall exerting an equal and opposite force on the car, causing it to come to a stop.\n",
            "5. A rocket launching into space: The action force is the rocket engines expelling gas, and the reaction force is the resulting upward movement of the rocket.\n",
            "6. A swimmer diving into a pool: The action force is the swimmer pushing off the pool deck, and the reaction force is the water pushing the swimmer upward, allowing them to enter the water.\n",
            "7. A person rowing a boat: The action force is the person pulling the oars through the water, and the reaction force is the water pushing back against the oars, propelling the boat forward.\n",
            "8. A basketball player shooting a free throw: The action force is the player pushing the ball with their hand, and the reaction force is the ball pushing back against the player's hand, causing it to move in the opposite direction.\n",
            "9. A skateboarder doing a kickflip: The action force is the skateboarder flicking their foot against the skateboard, and the reaction force is the skateboard pushing back against the skateboarder's foot, causing the board to flip.\n",
            "10. A person using a pogo stick: The action force is the person pushing down on the pogo stick, and the reaction force is the pogo stick pushing back against the person, propelling them upward.\n"
          ]
        }
      ]
    },
    {
      "cell_type": "code",
      "source": [],
      "metadata": {
        "id": "bkz9-FMCbN3A"
      },
      "execution_count": null,
      "outputs": []
    },
    {
      "cell_type": "markdown",
      "source": [
        "3.2 COT\n",
        "Let's try COT with this exercise. We would expect COT to perform better."
      ],
      "metadata": {
        "id": "ZXwWPB31bkB_"
      }
    },
    {
      "cell_type": "code",
      "source": [
        "quiz_input = \"\"\"Task: Generate a quiz on the teaching material mentioned above with the following specifications:\n",
        "\n",
        "First:\n",
        "- Understand the key concepts related to teaching material\n",
        "- Identify the components/elements of teaching material\n",
        "- Apply the principles of teaching material to solve problems\n",
        "\n",
        "Question Format:\n",
        "- Generate 10 multiple-choice questions with 4 options each\n",
        "- Ensure questions are clear, concise, and test only one concept/skill\n",
        "- Avoid ambiguity or tricky language in the questions and options\n",
        "\n",
        "Options:\n",
        "- Include relevant and plausible distractors (incorrect options)\n",
        "- Vary the length of options to prevent unintentional hints\n",
        "- Randomize the order of options for each question\n",
        "\n",
        "Explanations:\n",
        "- Provide a detailed explanation for the correct answer, including additional context, examples, or reinforcement of understanding\n",
        "- For each incorrect option, explain why it is incorrect and address any potential misconceptions or errors in thinking\n",
        "\n",
        "Output Format:\n",
        "Use the following format for each question:\n",
        "\n",
        "Question: [QUESTION TEXT]\n",
        "Options:\n",
        "a) [OPTION A]\n",
        "b) [OPTION B]\n",
        "c) [OPTION C]\n",
        "d) [OPTION D]\n",
        "\n",
        "Explanation:\n",
        "[EXPLANATION FOR CORRECT ANSWER]\n",
        "\n",
        "Incorrect Answers:\n",
        "a) [EXPLANATION FOR OPTION A BEING CORRECT/INCORRECT]\n",
        "b) [EXPLANATION FOR OPTION B BEING CORRECT/INCORRECT]\n",
        "c) [EXPLANATION FOR OPTION C BEING CORRECT/INCORRECT]\n",
        "d) [EXPLANATION FOR OPTION D BEING CORRECT/INCORRECT]\n",
        "\n",
        "Think step by step\"\"\"\n",
        "user_input = \"\"\"\n",
        "**Lesson Material:**\n",
        "\n",
        "Title: Understanding Newton's Third Law: Action and Reaction\n",
        "\n",
        "Objective: By the end of this lesson, students will be able to:\n",
        "\n",
        "Define Newton's Third Law of Motion.\n",
        "Identify action and reaction force pairs in various scenarios.\n",
        "Explain real-life applications of Newton's Third Law.\n",
        "Body:\n",
        "\n",
        "1. What is Newton's Third Law?\n",
        "\n",
        "Explain that Newton's Third Law states: \"For every action, there is an equal and opposite reaction.\"\n",
        "Break down the meaning of this law: when one object exerts a force on a second object, the second object exerts a force of equal magnitude in the opposite direction on the first object.\n",
        "2. Action and Reaction Pairs:\n",
        "\n",
        "Provide examples and ask students to identify the action and reaction force pairs in each scenario. Examples could include:\n",
        "A person pushing against a wall.\n",
        "A ball bouncing off the ground.\n",
        "A swimmer pushing against the water.\n",
        "Encourage students to think about the forces involved and how they act on different objects.\n",
        "3. Real-Life Applications:\n",
        "\n",
        "Discuss real-life examples where Newton's Third Law is at play, such as:\n",
        "Rocket propulsion: The action force is the expulsion of gas from the rocket engines, and the reaction force is the resulting upward movement of the rocket.\n",
        "Walking: Each step involves pushing against the ground, which pushes back with an equal force, propelling the person forward.\n",
        "Driving a car: The tires push against the road, and the road pushes back, propelling the car forward.\n",
        "Encourage students to brainstorm other examples they encounter in daily life.\"\"\"\n",
        "messages = [{\"role\":\"user\",\"content\":user_input+quiz_input}]"
      ],
      "metadata": {
        "id": "JZ9VECwDbknv"
      },
      "execution_count": 60,
      "outputs": []
    },
    {
      "cell_type": "code",
      "source": [
        "#response\n",
        "response = client.chat.completions.create(\n",
        "    messages = [{\"role\": \"user\", \"content\": example_prompt.format(material = user_input)}],\n",
        "    model = model_name,\n",
        "    max_tokens=1000,\n",
        "    temperature=0.95,\n",
        "    top_p = 0.5\n",
        ")"
      ],
      "metadata": {
        "id": "twFM_T_sbyFw"
      },
      "execution_count": 61,
      "outputs": []
    },
    {
      "cell_type": "code",
      "source": [
        "# print choices[0]\n",
        "print(response.choices[0].message.content)"
      ],
      "metadata": {
        "colab": {
          "base_uri": "https://localhost:8080/"
        },
        "id": "guuDedgRbyji",
        "outputId": "2e0a8fec-f4ba-4549-eee1-084edf9d10fe"
      },
      "execution_count": 62,
      "outputs": [
        {
          "output_type": "stream",
          "name": "stdout",
          "text": [
            "1. A soccer player kicking a ball: The action force is the player's foot exerting force on the ball, and the reaction force is the ball being propelled forward.\n",
            "2. A bird flapping its wings: The action force is the bird pushing air downward with its wings, and the reaction force is the bird being lifted upward.\n",
            "3. A hammer hitting a nail: The action force is the hammer striking the nail, and the reaction force is the nail being driven into the surface.\n",
            "4. A swimmer diving into a pool: The action force is the swimmer's body entering the water, and the reaction force is the water pushing back, propelling the swimmer forward.\n",
            "5. A balloon being inflated: The action force is the air being blown into the balloon, and the reaction force is the balloon expanding.\n",
            "6. A person jumping off a diving board: The action force is the person pushing off the diving board, and the reaction force is the diving board pushing back, propelling the person upward.\n",
            "7. A car's brakes being applied: The action force is the brake pads pressing against the wheels, and the reaction force is the car slowing down or coming to a stop.\n",
            "8. A rocket launching into space: The action force is the rocket engines expelling gas, and the reaction force is the rocket being propelled upward.\n",
            "9. A tennis player hitting a ball with a racket: The action force is the player swinging the racket, and the reaction force is the ball being sent in the opposite direction.\n",
            "10. A person using a seesaw: The action force is one person pushing down on their side of the seesaw, and the reaction force is the other person being lifted upward.\n"
          ]
        }
      ]
    },
    {
      "cell_type": "code",
      "source": [],
      "metadata": {
        "id": "7uzdyCSob0vi"
      },
      "execution_count": null,
      "outputs": []
    },
    {
      "cell_type": "markdown",
      "source": [
        "4 Math Quiz\n",
        "Things to Ponder: What kind of temperature, top-p, frequency penalty values can we use here?\n",
        "\n",
        "Note: Though we want the answers to be same everytime, we want different questions so that the teacher can chose from a variety of options.\n",
        "\n",
        "What happens if we change temperature and what happens if we change top-p?\n",
        "\n",
        "Temperature regulates randomness, with lower temperatures yielding less randomness (greater determinism), whereas higher temperatures result in increased randomness.\n",
        "\n",
        "In more technical terms, a lower temperature boosts the model's confidence in its primary selections. A temperature set at 0 equates to argmax or maximum likelihood, representing the token with the highest probability. A higher temperature modifies the probabilities in such a way that all probabilities are closer to each other i.e., the model has only slightly more confidence in it's top choices. We do not want the model to be in this state for calculation. Hence a temperature of zero is fit for this situation.\n",
        "\n",
        "Regarding top-p, it calculates the cumulative probability distribution and halts once this distribution surpasses the specified top-p value. For instance, a top-p value of 0.3 implies that only tokens encompassing the top 30% probability mass are considered.\n",
        "\n",
        "Between the two options, it is far more logical to maintain a temperature of zero. This ensures that high-probability terms, such as answers, are prioritized for selection. In instances where high probability terms are not present, words can be chosen from a limited sample set by incrementally increasing the top-p to small values."
      ],
      "metadata": {
        "id": "ZIrH-BNib6h9"
      }
    },
    {
      "cell_type": "markdown",
      "source": [
        "4.1 Zero_shot\n"
      ],
      "metadata": {
        "id": "YRLxa0stb8Nb"
      }
    },
    {
      "cell_type": "code",
      "source": [
        "quiz_input = \"\"\"Task: Generate a mcq quiz on the teaching material mentioned above.\n",
        "\n",
        "\n",
        "Output Format:\n",
        "Use the following format for each question:\n",
        "\n",
        "Question: [QUESTION TEXT]\n",
        "Options:\n",
        "a) [OPTION A]\n",
        "b) [OPTION B]\n",
        "c) [OPTION C]\n",
        "d) [OPTION D]\n",
        "\n",
        "Correct Option: [Correct Option]\n",
        "\n",
        "Explanation:\n",
        "[EXPLANATION FOR CORRECT ANSWER]\n",
        "\n",
        "Incorrect Answers:\n",
        "a) [EXPLANATION FOR OPTION A BEING CORRECT/INCORRECT]\n",
        "b) [EXPLANATION FOR OPTION B BEING CORRECT/INCORRECT]\n",
        "c) [EXPLANATION FOR OPTION C BEING CORRECT/INCORRECT]\n",
        "d) [EXPLANATION FOR OPTION D BEING CORRECT/INCORRECT]\n",
        "\n",
        "\"\"\"\n",
        "user_input = \"\"\"\n",
        "**Lesson Material:**\n",
        "\n",
        "solving two-step equations\"\"\"\n",
        "messages = [{\"role\":\"user\",\"content\":user_input+quiz_input}]"
      ],
      "metadata": {
        "id": "8NlH4UjMb9-H"
      },
      "execution_count": 63,
      "outputs": []
    },
    {
      "cell_type": "code",
      "source": [
        "response = client.chat.completions.create(\n",
        "    messages = messages,\n",
        "    model = model_name,\n",
        "    temperature=0,\n",
        "    top_p = 0.2\n",
        ")"
      ],
      "metadata": {
        "id": "iNnpfwdFcEON"
      },
      "execution_count": 65,
      "outputs": []
    },
    {
      "cell_type": "code",
      "source": [
        "print(response.choices[0].message.content)\n"
      ],
      "metadata": {
        "colab": {
          "base_uri": "https://localhost:8080/"
        },
        "id": "BsNbdftNcGg0",
        "outputId": "7be8c011-9931-4766-e744-98f30358d1da"
      },
      "execution_count": 66,
      "outputs": [
        {
          "output_type": "stream",
          "name": "stdout",
          "text": [
            "Question: What is the first step in solving a two-step equation?\n",
            "\n",
            "Options:\n",
            "a) Add or subtract the constant term on both sides of the equation\n",
            "b) Multiply or divide the constant term on both sides of the equation\n",
            "c) Add or subtract the variable term on both sides of the equation\n",
            "d) Multiply or divide the variable term on both sides of the equation\n",
            "\n",
            "Correct Option: a) Add or subtract the constant term on both sides of the equation\n",
            "\n",
            "Explanation:\n",
            "The first step in solving a two-step equation is to eliminate the constant term by adding or subtracting it on both sides of the equation. This helps isolate the variable term and makes it easier to solve for the variable.\n",
            "\n",
            "Incorrect Answers:\n",
            "b) Multiplying or dividing the constant term on both sides of the equation would not eliminate the constant term, but rather change its value.\n",
            "c) Adding or subtracting the variable term on both sides of the equation would not eliminate the constant term, but rather change its value.\n",
            "d) Multiplying or dividing the variable term on both sides of the equation would not eliminate the constant term, but rather change its value.\n",
            "\n",
            "Question: What is the second step in solving a two-step equation?\n",
            "\n",
            "Options:\n",
            "a) Add or subtract the variable term on both sides of the equation\n",
            "b) Multiply or divide the variable term on both sides of the equation\n",
            "c) Add or subtract the constant term on both sides of the equation\n",
            "d) Multiply or divide the constant term on both sides of the equation\n",
            "\n",
            "Correct Option: b) Multiply or divide the variable term on both sides of the equation\n",
            "\n",
            "Explanation:\n",
            "The second step in solving a two-step equation is to eliminate the variable term by multiplying or dividing it on both sides of the equation. This helps isolate the variable and find its value.\n",
            "\n",
            "Incorrect Answers:\n",
            "a) Adding or subtracting the variable term on both sides of the equation would not eliminate the variable term, but rather change its value.\n",
            "c) Adding or subtracting the constant term on both sides of the equation would not eliminate the variable term, but rather change its value.\n",
            "d) Multiplying or dividing the constant term on both sides of the equation would not eliminate the variable term, but rather change its value.\n",
            "\n",
            "Question: Solve the equation: 3x + 5 = 17\n",
            "\n",
            "Options:\n",
            "a) x = 4\n",
            "b) x = 6\n",
            "c) x = 7\n",
            "d) x = 8\n",
            "\n",
            "Correct Option: a) x = 4\n",
            "\n",
            "Explanation:\n",
            "To solve the equation 3x + 5 = 17, we first subtract 5 from both sides to eliminate the constant term:\n",
            "3x + 5 - 5 = 17 - 5\n",
            "3x = 12\n",
            "Then, we divide both sides by 3 to eliminate the variable term:\n",
            "3x/3 = 12/3\n",
            "x = 4\n",
            "\n",
            "Incorrect Answers:\n",
            "b) If x = 6, then 3x + 5 = 3(6) + 5 = 18 + 5 = 23, which is not equal to 17.\n",
            "c) If x = 7, then 3x + 5 = 3(7) + 5 = 21 + 5 = 26, which is not equal to 17.\n",
            "d) If x = 8, then 3x + 5 = 3(8) + 5 = 24 + 5 = 29, which is not equal to 17.\n"
          ]
        }
      ]
    },
    {
      "cell_type": "code",
      "source": [],
      "metadata": {
        "id": "sA9P2VwccLCB"
      },
      "execution_count": null,
      "outputs": []
    },
    {
      "cell_type": "markdown",
      "source": [
        "We can clearly see that most of the answers provided are incorrect. But you can see that it generates the right answer during explanation. Let's try COT and see if we can get better responses.\n",
        "\n",
        "An LLM can be made to \"think\" in steps by making small changes to the prompt. The general way of achieving that is by adding the line \"think in steps\" to the prompt. Let me show you a small change in our curren prompt which has the same effect. It forces the llm to think first and answer later.\n",
        "\n",
        "Placing the explanation before the correct option in the prompt is intended to prompt the LLM Model to engage in a more thoughtful process when formulating its response. Rather than immediately providing an answer, this approach encourages the model to approach the problem by breaking it down into simpler sub-problems. By doing so, it is more probable that the model will find answers to these sub-problems within its training data, thereby increasing the likelihood of accurate responses. Subsequently, the model can build upon the solutions obtained from these sub-problems to address the entire problem effectively."
      ],
      "metadata": {
        "id": "ILx_HyfQcLcz"
      }
    },
    {
      "cell_type": "code",
      "source": [
        "quiz_input = \"\"\"Task: Generate a mcq quiz on the teaching material mentioned above.\n",
        "\n",
        "\n",
        "Output Format:\n",
        "Use the following format for each question:\n",
        "\n",
        "Question: [QUESTION TEXT]\n",
        "Options:\n",
        "a) [OPTION A]\n",
        "b) [OPTION B]\n",
        "c) [OPTION C]\n",
        "d) [OPTION D]\n",
        "\n",
        "Explanation:\n",
        "[EXPLANATION FOR CORRECT ANSWER]\n",
        "\n",
        "Correct Option: [Correct Option]\n",
        "\n",
        "Incorrect Answers:\n",
        "a) [EXPLANATION FOR OPTION A BEING CORRECT/INCORRECT]\n",
        "b) [EXPLANATION FOR OPTION B BEING CORRECT/INCORRECT]\n",
        "c) [EXPLANATION FOR OPTION C BEING CORRECT/INCORRECT]\n",
        "d) [EXPLANATION FOR OPTION D BEING CORRECT/INCORRECT]\n",
        "\n",
        "\"\"\"\n",
        "user_input = \"\"\"\n",
        "**Lesson Material:**\n",
        "\n",
        "solving two-step equations\"\"\""
      ],
      "metadata": {
        "id": "dCs_asA1cPyP"
      },
      "execution_count": 68,
      "outputs": []
    },
    {
      "cell_type": "markdown",
      "source": [
        "Question 11 - Create messages and response and print response"
      ],
      "metadata": {
        "id": "RaTgWzgwcud7"
      }
    },
    {
      "cell_type": "code",
      "source": [
        "messages = [{\"role\":\"user\",\"content\":user_input+quiz_input}]\n",
        "response = client.chat.completions.create(\n",
        "    messages = messages,\n",
        "    model = model_name,\n",
        "    temperature=0,\n",
        "    top_p = 0.2\n",
        ")\n",
        "print(response.choices[0].message.content)"
      ],
      "metadata": {
        "colab": {
          "base_uri": "https://localhost:8080/"
        },
        "id": "2Iyg_aF4cTrC",
        "outputId": "cbebdbb6-94f8-4dcb-ff17-87a1b09008a6"
      },
      "execution_count": 69,
      "outputs": [
        {
          "output_type": "stream",
          "name": "stdout",
          "text": [
            "Question: What is the first step in solving a two-step equation?\n",
            "\n",
            "Options:\n",
            "a) Add or subtract the constant term on both sides of the equation\n",
            "b) Multiply or divide the coefficient on both sides of the equation\n",
            "c) Combine like terms on both sides of the equation\n",
            "d) None of the above\n",
            "\n",
            "Explanation:\n",
            "The first step in solving a two-step equation is to undo the addition or subtraction by adding or subtracting the constant term on both sides of the equation.\n",
            "\n",
            "Correct Option: a) Add or subtract the constant term on both sides of the equation\n",
            "\n",
            "Incorrect Answers:\n",
            "b) Multiplying or dividing the coefficient on both sides of the equation is the second step in solving a two-step equation.\n",
            "c) Combining like terms on both sides of the equation is not the first step in solving a two-step equation.\n",
            "d) None of the above is incorrect as the first step is to add or subtract the constant term.\n"
          ]
        }
      ]
    },
    {
      "cell_type": "code",
      "source": [],
      "metadata": {
        "id": "RE5ulqOacmIK"
      },
      "execution_count": null,
      "outputs": []
    },
    {
      "cell_type": "markdown",
      "source": [
        "4.2 COT\n",
        "Let's try a more standard CoT approach and let's ask the model to 'think through the problem and explain its answer' without doing the trick with explanation and let's see how good that approach is."
      ],
      "metadata": {
        "id": "Z4ps59M6c0O5"
      }
    },
    {
      "cell_type": "code",
      "source": [
        "quiz_input = \"\"\"Think through and explain your answer\n",
        "Task: Generate a mcq quiz with 10 questions on the teaching material mentioned above.\n",
        "\n",
        "Output Format:\n",
        "Use the following format for each question:\n",
        "\n",
        "Question: [QUESTION TEXT]\n",
        "Options:\n",
        "a) [OPTION A]\n",
        "b) [OPTION B]\n",
        "c) [OPTION C]\n",
        "d) [OPTION D]\n",
        "\n",
        "Correct Option: [Correct Option]\n",
        "\n",
        "Explanation:\n",
        "[EXPLANATION FOR CORRECT ANSWER]\n",
        "\n",
        "Incorrect Answers:\n",
        "a) [EXPLANATION FOR OPTION A BEING CORRECT/INCORRECT]\n",
        "b) [EXPLANATION FOR OPTION B BEING CORRECT/INCORRECT]\n",
        "c) [EXPLANATION FOR OPTION C BEING CORRECT/INCORRECT]\n",
        "d) [EXPLANATION FOR OPTION D BEING CORRECT/INCORRECT]\n",
        "\n",
        "\"\"\"\n",
        "user_input = \"\"\"\n",
        "**Lesson Material:**\n",
        "\n",
        "solving two-step equations\"\"\""
      ],
      "metadata": {
        "id": "kTbjKcuIc0v1"
      },
      "execution_count": 70,
      "outputs": []
    },
    {
      "cell_type": "code",
      "source": [],
      "metadata": {
        "id": "KQNElwRPc456"
      },
      "execution_count": null,
      "outputs": []
    },
    {
      "cell_type": "markdown",
      "source": [
        "Question 12 - Create messages and response and print response"
      ],
      "metadata": {
        "id": "zFLAwWTdc6W4"
      }
    },
    {
      "cell_type": "code",
      "source": [
        "messages = [{\"role\":\"user\",\"content\":user_input+quiz_input}]\n",
        "response = client.chat.completions.create(\n",
        "    messages = messages,\n",
        "    model = model_name,\n",
        "    temperature=0.2,\n",
        "    top_p = 0.7\n",
        ")\n",
        "print(response.choices[0].message.content)"
      ],
      "metadata": {
        "colab": {
          "base_uri": "https://localhost:8080/"
        },
        "id": "OKIZCCeEc689",
        "outputId": "d37a48ff-87fc-48be-bcca-d9b2ecf7eabb"
      },
      "execution_count": 71,
      "outputs": [
        {
          "output_type": "stream",
          "name": "stdout",
          "text": [
            "Question: What is the first step in solving a two-step equation?\n",
            "\n",
            "Options:\n",
            "a) Add or subtract the constant term\n",
            "b) Multiply or divide the variable term\n",
            "c) Add or subtract the variable term\n",
            "d) Multiply or divide the constant term\n",
            "\n",
            "Correct Option: c) Add or subtract the variable term\n",
            "\n",
            "Explanation:\n",
            "The first step in solving a two-step equation is to add or subtract the variable term on one side of the equation to isolate the variable.\n",
            "\n",
            "Incorrect Answers:\n",
            "a) Adding or subtracting the constant term is not the first step in solving a two-step equation.\n",
            "b) Multiplying or dividing the variable term is not the first step in solving a two-step equation.\n",
            "d) Multiplying or dividing the constant term is not the first step in solving a two-step equation.\n",
            "\n",
            "Question: What is the second step in solving a two-step equation?\n",
            "\n",
            "Options:\n",
            "a) Add or subtract the constant term\n",
            "b) Multiply or divide the variable term\n",
            "c) Add or subtract the variable term\n",
            "d) Multiply or divide the constant term\n",
            "\n",
            "Correct Option: a) Add or subtract the constant term\n",
            "\n",
            "Explanation:\n",
            "The second step in solving a two-step equation is to add or subtract the constant term on the other side of the equation to isolate the variable.\n",
            "\n",
            "Incorrect Answers:\n",
            "b) Multiplying or dividing the variable term is not the second step in solving a two-step equation.\n",
            "c) Adding or subtracting the variable term is the first step, not the second step, in solving a two-step equation.\n",
            "d) Multiplying or dividing the constant term is not the second step in solving a two-step equation.\n",
            "\n",
            "Question: Solve the equation: 3x + 5 = 17\n",
            "\n",
            "Options:\n",
            "a) x = 4\n",
            "b) x = 6\n",
            "c) x = 7\n",
            "d) x = 8\n",
            "\n",
            "Correct Option: b) x = 6\n",
            "\n",
            "Explanation:\n",
            "To solve the equation 3x + 5 = 17, we first subtract 5 from both sides to isolate the variable: 3x = 12. Then, we divide both sides by 3 to solve for x: x = 4.\n",
            "\n",
            "Incorrect Answers:\n",
            "a) This is not the correct solution to the equation.\n",
            "c) This is not the correct solution to the equation.\n",
            "d) This is not the correct solution to the equation.\n",
            "\n",
            "Question: Solve the equation: 2(4x - 3) = 14\n",
            "\n",
            "Options:\n",
            "a) x = 2\n",
            "b) x = 3\n",
            "c) x = 4\n",
            "d) x = 5\n",
            "\n",
            "Correct Option: c) x = 4\n",
            "\n",
            "Explanation:\n",
            "To solve the equation 2(4x - 3) = 14, we first distribute the 2 to the terms inside the parentheses: 8x - 6 = 14. Then, we add 6 to both sides to isolate the variable: 8x = 20. Finally, we divide both sides by 8 to solve for x: x = 4.\n",
            "\n",
            "Incorrect Answers:\n",
            "a) This is not the correct solution to the equation.\n",
            "b) This is not the correct solution to the equation.\n",
            "d) This is not the correct solution to the equation.\n",
            "\n",
            "Question: Solve the equation: 5x - 7 = 3x + 5\n",
            "\n",
            "Options:\n",
            "a) x = 3\n",
            "b) x = 4\n",
            "c) x = 5\n",
            "d) x = 6\n",
            "\n",
            "Correct Option: d) x = 6\n",
            "\n",
            "Explanation:\n",
            "To solve the equation 5x - 7 = 3x + 5, we first subtract 3x from both sides to isolate the variable: 2x - 7 = 5. Then, we add 7 to both sides to isolate the variable: 2x = 12. Finally, we divide both sides by 2 to solve for x: x = 6.\n",
            "\n",
            "Incorrect Answers:\n",
            "a) This is not the correct solution to the equation.\n",
            "b) This is not the correct solution to the equation.\n",
            "c) This is not the correct solution to the equation.\n",
            "\n",
            "Question: Solve the equation: 2x + 3 = 5x - 1\n",
            "\n",
            "Options:\n",
            "a) x = 1\n",
            "b) x = 2\n",
            "c) x = 3\n",
            "d) x = 4\n",
            "\n",
            "Correct Option: b) x = 2\n",
            "\n",
            "Explanation:\n",
            "To solve the equation 2x + 3 = 5x - 1, we first subtract 2x from both sides to isolate the variable: 3 = 3x - 1. Then, we add 1 to both sides to isolate the variable: 4 = 3x. Finally, we divide both sides by 3 to solve for x: x = 2.\n",
            "\n",
            "Incorrect Answers:\n",
            "a) This is not the correct solution to the equation.\n",
            "c) This is not the correct solution to the equation.\n",
            "d) This is not the correct solution to the equation.\n",
            "\n",
            "Question: Solve the equation: 4(2x + 1) = 12\n",
            "\n",
            "Options:\n",
            "a) x = 1\n",
            "b) x = 2\n",
            "c) x = 3\n",
            "d) x = 4\n",
            "\n",
            "Correct Option: a) x = 1\n",
            "\n",
            "Explanation:\n",
            "To solve the equation 4(2x + 1) = 12, we first distribute the 4 to the terms inside the parentheses: 8x + 4 = 12. Then, we subtract 4 from both sides to isolate the variable: 8x = 8. Finally, we divide both sides by 8 to solve for x: x = 1.\n",
            "\n",
            "Incorrect Answers:\n",
            "b) This is not the correct solution to the equation.\n",
            "c) This is not the correct solution to the equation.\n",
            "d) This is not the correct solution to the equation.\n",
            "\n",
            "Question: Solve the equation: 3(x - 2) = 9\n",
            "\n",
            "Options:\n",
            "a) x = 2\n",
            "b) x = 3\n",
            "c) x = 4\n",
            "d) x = 5\n",
            "\n",
            "Correct Option: c) x = 4\n",
            "\n",
            "Explanation:\n",
            "To solve the equation 3(x - 2) = 9, we first distribute the 3 to the terms inside the parentheses: 3x - 6 = 9. Then, we add 6 to both sides to isolate the variable: 3x = 15. Finally, we divide both sides by 3 to solve for x: x = 4.\n",
            "\n",
            "Incorrect Answers:\n",
            "a) This is not the correct solution to the equation.\n",
            "b) This is not the correct solution to the equation.\n",
            "d) This is not the correct solution to the equation.\n",
            "\n",
            "Question: Solve the equation: 2x - 5 = 3(x + 1)\n",
            "\n",
            "Options:\n",
            "a) x = -2\n",
            "b) x = -1\n",
            "c) x = 0\n",
            "d) x = 1\n",
            "\n",
            "Correct Option: a) x = -2\n",
            "\n",
            "Explanation:\n",
            "To solve the equation 2x - 5 = 3(x + 1), we first distribute the 3 to the terms inside the parentheses: 2x - 5 = 3x + 3. Then, we subtract 2x from both sides to isolate the variable: -5 = x + 3. Finally, we subtract 3 from both sides to solve for x: -8 = x.\n",
            "\n",
            "Incorrect Answers:\n",
            "b) This is not the correct solution to the equation.\n",
            "c) This is not the correct solution to the equation.\n",
            "d) This is not the correct solution to the equation.\n",
            "\n",
            "Question: Solve the equation: 4(x - 3) = 8\n",
            "\n",
            "Options:\n",
            "a) x = 2\n",
            "b) x = 3\n",
            "c) x = 4\n",
            "d) x = 5\n",
            "\n",
            "Correct Option: b) x = 3\n",
            "\n",
            "Explanation:\n",
            "To solve the equation 4(x - 3) = 8, we first distribute the 4 to the terms inside the parentheses: 4x - 12 = 8. Then, we add 12 to both sides to isolate the variable: 4x = 20. Finally, we divide both sides by 4 to solve for x: x = 5.\n",
            "\n",
            "Incorrect Answers:\n",
            "a) This is not the correct solution to the equation.\n",
            "c) This is not the correct solution to the equation.\n",
            "d) This is not the correct solution to the equation.\n"
          ]
        }
      ]
    },
    {
      "cell_type": "markdown",
      "source": [
        "It is as bad as a zero-prompt before switching the explanation and correct option placement. We can see that the simple trick of placing explanation above correct answer works much better than a standard CoT trick. This illustrates that prompt engineering is an emperical field and experimentation is the only way to find the best prompt.\n",
        "\n",
        "Upon repeated attempts at this exercise, you'll find that regardless of the quality of the prompt, language models (LLMs) will inevitably produce incorrect responses. This is because LLMs operate probabilistically and aren't designed for precise calculations. While some LLMs tailored for math might perform better, there's no guarantee of always getting the right answer.\n",
        "\n",
        "The only reliable method for accurate responses from LLMs is to utilize agents that go beyond what we cover in this course. These agents represent the most suitable LLM technology for such tasks."
      ],
      "metadata": {
        "id": "AQbLczb_dJpT"
      }
    },
    {
      "cell_type": "code",
      "source": [],
      "metadata": {
        "id": "-tSLLVSkdKNU"
      },
      "execution_count": null,
      "outputs": []
    }
  ]
}
